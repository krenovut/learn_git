{
 "cells": [
  {
   "cell_type": "code",
   "execution_count": 1,
   "metadata": {
    "collapsed": true
   },
   "outputs": [],
   "source": [
    "PATH = 'C:\\\\Users\\\\krenovut\\\\Desktop\\\\rubeacon\\\\client-academia\\\\'\n",
    "# PATH = 'C:\\\\Users\\\\vadim\\\\Desktop\\\\RuBeacon\\\\Clients-Datasets\\\\client-academia\\\\'"
   ]
  },
  {
   "cell_type": "code",
   "execution_count": 86,
   "metadata": {
    "collapsed": true
   },
   "outputs": [],
   "source": [
    "import pandas as pd\n",
    "import numpy as np\n",
    "from collections import Counter\n",
    "from sklearn.cluster import KMeans\n",
    "from datetime import datetime\n",
    "import json"
   ]
  },
  {
   "cell_type": "code",
   "execution_count": 3,
   "metadata": {
    "collapsed": true
   },
   "outputs": [],
   "source": [
    "def read_multiples(file_name, number):\n",
    "    res = pd.DataFrame()\n",
    "    for i in range(1, number+1):\n",
    "        path = PATH + file_name + '-' + str(i) + '.csv'\n",
    "        f = pd.read_csv(path)\n",
    "        res = pd.concat([res,f])\n",
    "    return res"
   ]
  },
  {
   "cell_type": "code",
   "execution_count": 4,
   "metadata": {
    "collapsed": true
   },
   "outputs": [],
   "source": [
    "items = pd.read_csv(PATH + \"academia-items.csv\")\n",
    "cats = pd.read_csv(PATH + \"academia-cats.csv\")\n",
    "order_items = read_multiples('academia-order-items', 9)\n",
    "orders = read_multiples('academia-orders', 8)\n",
    "orders['date_created'] = pd.to_datetime(orders['date_created'],\n",
    "                              format='%Y-%m-%d %H:%M:%S %Z')"
   ]
  },
  {
   "cell_type": "code",
   "execution_count": 5,
   "metadata": {},
   "outputs": [
    {
     "data": {
      "text/html": [
       "<div>\n",
       "<style>\n",
       "    .dataframe thead tr:only-child th {\n",
       "        text-align: right;\n",
       "    }\n",
       "\n",
       "    .dataframe thead th {\n",
       "        text-align: left;\n",
       "    }\n",
       "\n",
       "    .dataframe tbody tr th {\n",
       "        vertical-align: top;\n",
       "    }\n",
       "</style>\n",
       "<table border=\"1\" class=\"dataframe\">\n",
       "  <thead>\n",
       "    <tr style=\"text-align: right;\">\n",
       "      <th></th>\n",
       "      <th>item_id</th>\n",
       "      <th>cat_id</th>\n",
       "      <th>title</th>\n",
       "      <th>price</th>\n",
       "      <th>picture</th>\n",
       "    </tr>\n",
       "  </thead>\n",
       "  <tbody>\n",
       "    <tr>\n",
       "      <th>0</th>\n",
       "      <td>04a5cb4b-da08-aa0a-0153-a9d681ae413b</td>\n",
       "      <td>04a5cb4b-da08-aa0a-0153-a9d681ae3f15</td>\n",
       "      <td>Раф цитрусовый холодный</td>\n",
       "      <td>150</td>\n",
       "      <td>http://empatika-resto.appspot.com/img/aHR0cHM6...</td>\n",
       "    </tr>\n",
       "    <tr>\n",
       "      <th>1</th>\n",
       "      <td>04a5cb4b-da08-aa0a-0153-a9d681ae419f</td>\n",
       "      <td>2057d6a9-7387-4a14-b42f-7b922f52540b</td>\n",
       "      <td>Бейгл с лососем</td>\n",
       "      <td>170</td>\n",
       "      <td>http://empatika-resto.appspot.com/img/aHR0cHM6...</td>\n",
       "    </tr>\n",
       "    <tr>\n",
       "      <th>2</th>\n",
       "      <td>04a5cb4b-da08-aa0a-0153-a9d681ae41f5</td>\n",
       "      <td>04a5cb4b-da08-aa0a-0153-a9d681ae3f30</td>\n",
       "      <td>Эфиопия Арича Мытая 100гр</td>\n",
       "      <td>180</td>\n",
       "      <td>NaN</td>\n",
       "    </tr>\n",
       "    <tr>\n",
       "      <th>3</th>\n",
       "      <td>04a5cb4b-da08-aa0a-0153-a9d681ae4202</td>\n",
       "      <td>04a5cb4b-da08-aa0a-0153-a9d681ae3f3b</td>\n",
       "      <td>Латте большой</td>\n",
       "      <td>140</td>\n",
       "      <td>http://empatika-resto.appspot.com/img/aHR0cHM6...</td>\n",
       "    </tr>\n",
       "    <tr>\n",
       "      <th>4</th>\n",
       "      <td>04a5cb4b-da08-aa0a-0153-a9d681ae4207</td>\n",
       "      <td>a77eacd0-6036-4791-a22c-fe96da4a27e0</td>\n",
       "      <td>Чай Зеленый Чун Ми</td>\n",
       "      <td>120</td>\n",
       "      <td>http://empatika-resto.appspot.com/img/aHR0cHM6...</td>\n",
       "    </tr>\n",
       "  </tbody>\n",
       "</table>\n",
       "</div>"
      ],
      "text/plain": [
       "                                item_id                                cat_id  \\\n",
       "0  04a5cb4b-da08-aa0a-0153-a9d681ae413b  04a5cb4b-da08-aa0a-0153-a9d681ae3f15   \n",
       "1  04a5cb4b-da08-aa0a-0153-a9d681ae419f  2057d6a9-7387-4a14-b42f-7b922f52540b   \n",
       "2  04a5cb4b-da08-aa0a-0153-a9d681ae41f5  04a5cb4b-da08-aa0a-0153-a9d681ae3f30   \n",
       "3  04a5cb4b-da08-aa0a-0153-a9d681ae4202  04a5cb4b-da08-aa0a-0153-a9d681ae3f3b   \n",
       "4  04a5cb4b-da08-aa0a-0153-a9d681ae4207  a77eacd0-6036-4791-a22c-fe96da4a27e0   \n",
       "\n",
       "                       title  price  \\\n",
       "0    Раф цитрусовый холодный    150   \n",
       "1            Бейгл с лососем    170   \n",
       "2  Эфиопия Арича Мытая 100гр    180   \n",
       "3             Латте большой     140   \n",
       "4         Чай Зеленый Чун Ми    120   \n",
       "\n",
       "                                             picture  \n",
       "0  http://empatika-resto.appspot.com/img/aHR0cHM6...  \n",
       "1  http://empatika-resto.appspot.com/img/aHR0cHM6...  \n",
       "2                                                NaN  \n",
       "3  http://empatika-resto.appspot.com/img/aHR0cHM6...  \n",
       "4  http://empatika-resto.appspot.com/img/aHR0cHM6...  "
      ]
     },
     "execution_count": 5,
     "metadata": {},
     "output_type": "execute_result"
    }
   ],
   "source": [
    "items.head()"
   ]
  },
  {
   "cell_type": "code",
   "execution_count": 6,
   "metadata": {},
   "outputs": [
    {
     "data": {
      "text/html": [
       "<div>\n",
       "<style>\n",
       "    .dataframe thead tr:only-child th {\n",
       "        text-align: right;\n",
       "    }\n",
       "\n",
       "    .dataframe thead th {\n",
       "        text-align: left;\n",
       "    }\n",
       "\n",
       "    .dataframe tbody tr th {\n",
       "        vertical-align: top;\n",
       "    }\n",
       "</style>\n",
       "<table border=\"1\" class=\"dataframe\">\n",
       "  <thead>\n",
       "    <tr style=\"text-align: right;\">\n",
       "      <th></th>\n",
       "      <th>cat_id</th>\n",
       "      <th>parent_cat_id</th>\n",
       "      <th>title</th>\n",
       "      <th>picture</th>\n",
       "    </tr>\n",
       "  </thead>\n",
       "  <tbody>\n",
       "    <tr>\n",
       "      <th>0</th>\n",
       "      <td>04a5cb4b-da08-aa0a-0153-a9d681ae3f03</td>\n",
       "      <td>5720147234914304</td>\n",
       "      <td>Кофе в розницу</td>\n",
       "      <td>http://empatika-resto.appspot.com/img/aHR0cHM6...</td>\n",
       "    </tr>\n",
       "    <tr>\n",
       "      <th>1</th>\n",
       "      <td>1de039ca-388b-4d4e-abd8-21e63a6ed0cf</td>\n",
       "      <td>04a5cb4b-da08-aa0a-0153-a9d681ae3f43</td>\n",
       "      <td>Соки</td>\n",
       "      <td>http://empatika-resto.appspot.com/img/aHR0cHM6...</td>\n",
       "    </tr>\n",
       "    <tr>\n",
       "      <th>2</th>\n",
       "      <td>5743573328723968</td>\n",
       "      <td>5720147234914304</td>\n",
       "      <td>Зимнее предложение</td>\n",
       "      <td>http://lh3.googleusercontent.com/j2RZet7-yl4Pd...</td>\n",
       "    </tr>\n",
       "    <tr>\n",
       "      <th>3</th>\n",
       "      <td>04a5cb4b-da08-aa0a-0153-a9d681ae3f36</td>\n",
       "      <td>04a5cb4b-da08-aa0a-0153-a9d681ae3f43</td>\n",
       "      <td>Шоколадные</td>\n",
       "      <td>http://empatika-resto.appspot.com/img/aHR0cHM6...</td>\n",
       "    </tr>\n",
       "    <tr>\n",
       "      <th>4</th>\n",
       "      <td>04a5cb4b-da08-aa0a-0153-a9d681ae3f3b</td>\n",
       "      <td>04a5cb4b-da08-aa0a-0153-a9d681ae3f38</td>\n",
       "      <td>Классический</td>\n",
       "      <td>http://empatika-resto.appspot.com/img/aHR0cHM6...</td>\n",
       "    </tr>\n",
       "  </tbody>\n",
       "</table>\n",
       "</div>"
      ],
      "text/plain": [
       "                                 cat_id                         parent_cat_id  \\\n",
       "0  04a5cb4b-da08-aa0a-0153-a9d681ae3f03                      5720147234914304   \n",
       "1  1de039ca-388b-4d4e-abd8-21e63a6ed0cf  04a5cb4b-da08-aa0a-0153-a9d681ae3f43   \n",
       "2                      5743573328723968                      5720147234914304   \n",
       "3  04a5cb4b-da08-aa0a-0153-a9d681ae3f36  04a5cb4b-da08-aa0a-0153-a9d681ae3f43   \n",
       "4  04a5cb4b-da08-aa0a-0153-a9d681ae3f3b  04a5cb4b-da08-aa0a-0153-a9d681ae3f38   \n",
       "\n",
       "                title                                            picture  \n",
       "0      Кофе в розницу  http://empatika-resto.appspot.com/img/aHR0cHM6...  \n",
       "1                Соки  http://empatika-resto.appspot.com/img/aHR0cHM6...  \n",
       "2  Зимнее предложение  http://lh3.googleusercontent.com/j2RZet7-yl4Pd...  \n",
       "3          Шоколадные  http://empatika-resto.appspot.com/img/aHR0cHM6...  \n",
       "4        Классический  http://empatika-resto.appspot.com/img/aHR0cHM6...  "
      ]
     },
     "execution_count": 6,
     "metadata": {},
     "output_type": "execute_result"
    }
   ],
   "source": [
    "cats.head()"
   ]
  },
  {
   "cell_type": "code",
   "execution_count": 7,
   "metadata": {},
   "outputs": [
    {
     "data": {
      "text/html": [
       "<div>\n",
       "<style>\n",
       "    .dataframe thead tr:only-child th {\n",
       "        text-align: right;\n",
       "    }\n",
       "\n",
       "    .dataframe thead th {\n",
       "        text-align: left;\n",
       "    }\n",
       "\n",
       "    .dataframe tbody tr th {\n",
       "        vertical-align: top;\n",
       "    }\n",
       "</style>\n",
       "<table border=\"1\" class=\"dataframe\">\n",
       "  <thead>\n",
       "    <tr style=\"text-align: right;\">\n",
       "      <th></th>\n",
       "      <th>index</th>\n",
       "      <th>client_id</th>\n",
       "      <th>order_id</th>\n",
       "      <th>item_id</th>\n",
       "      <th>item_cnt</th>\n",
       "    </tr>\n",
       "  </thead>\n",
       "  <tbody>\n",
       "    <tr>\n",
       "      <th>0</th>\n",
       "      <td>1</td>\n",
       "      <td>692412</td>\n",
       "      <td>117796</td>\n",
       "      <td>04a5cb4b-da08-aa0a-0153-a9d681ae4246</td>\n",
       "      <td>1</td>\n",
       "    </tr>\n",
       "    <tr>\n",
       "      <th>1</th>\n",
       "      <td>2</td>\n",
       "      <td>1886815</td>\n",
       "      <td>117797</td>\n",
       "      <td>a0498a99-3932-4830-9e51-dda6cb506e9c</td>\n",
       "      <td>1</td>\n",
       "    </tr>\n",
       "    <tr>\n",
       "      <th>2</th>\n",
       "      <td>3</td>\n",
       "      <td>1886815</td>\n",
       "      <td>117797</td>\n",
       "      <td>af3110d3-e8b7-411e-b4c3-f841911ff6ee</td>\n",
       "      <td>1</td>\n",
       "    </tr>\n",
       "    <tr>\n",
       "      <th>3</th>\n",
       "      <td>4</td>\n",
       "      <td>1675612</td>\n",
       "      <td>117798</td>\n",
       "      <td>04a5cb4b-da08-aa0a-0153-a9d681ae421f</td>\n",
       "      <td>1</td>\n",
       "    </tr>\n",
       "    <tr>\n",
       "      <th>4</th>\n",
       "      <td>5</td>\n",
       "      <td>2116411</td>\n",
       "      <td>117799</td>\n",
       "      <td>b8967389-1777-405d-8cb0-d56c25599b72</td>\n",
       "      <td>1</td>\n",
       "    </tr>\n",
       "  </tbody>\n",
       "</table>\n",
       "</div>"
      ],
      "text/plain": [
       "   index  client_id  order_id                               item_id  item_cnt\n",
       "0      1     692412    117796  04a5cb4b-da08-aa0a-0153-a9d681ae4246         1\n",
       "1      2    1886815    117797  a0498a99-3932-4830-9e51-dda6cb506e9c         1\n",
       "2      3    1886815    117797  af3110d3-e8b7-411e-b4c3-f841911ff6ee         1\n",
       "3      4    1675612    117798  04a5cb4b-da08-aa0a-0153-a9d681ae421f         1\n",
       "4      5    2116411    117799  b8967389-1777-405d-8cb0-d56c25599b72         1"
      ]
     },
     "execution_count": 7,
     "metadata": {},
     "output_type": "execute_result"
    }
   ],
   "source": [
    "order_items.head()"
   ]
  },
  {
   "cell_type": "code",
   "execution_count": 8,
   "metadata": {},
   "outputs": [
    {
     "data": {
      "text/html": [
       "<div>\n",
       "<style>\n",
       "    .dataframe thead tr:only-child th {\n",
       "        text-align: right;\n",
       "    }\n",
       "\n",
       "    .dataframe thead th {\n",
       "        text-align: left;\n",
       "    }\n",
       "\n",
       "    .dataframe tbody tr th {\n",
       "        vertical-align: top;\n",
       "    }\n",
       "</style>\n",
       "<table border=\"1\" class=\"dataframe\">\n",
       "  <thead>\n",
       "    <tr style=\"text-align: right;\">\n",
       "      <th></th>\n",
       "      <th>index</th>\n",
       "      <th>order_id</th>\n",
       "      <th>client_id</th>\n",
       "      <th>total_sum</th>\n",
       "      <th>date_created</th>\n",
       "    </tr>\n",
       "  </thead>\n",
       "  <tbody>\n",
       "    <tr>\n",
       "      <th>0</th>\n",
       "      <td>1</td>\n",
       "      <td>10</td>\n",
       "      <td>10871</td>\n",
       "      <td>200.0</td>\n",
       "      <td>2015-11-18 14:57:05</td>\n",
       "    </tr>\n",
       "    <tr>\n",
       "      <th>1</th>\n",
       "      <td>2</td>\n",
       "      <td>11</td>\n",
       "      <td>10406</td>\n",
       "      <td>110.0</td>\n",
       "      <td>2015-11-19 09:31:51</td>\n",
       "    </tr>\n",
       "    <tr>\n",
       "      <th>2</th>\n",
       "      <td>3</td>\n",
       "      <td>117796</td>\n",
       "      <td>692412</td>\n",
       "      <td>110.0</td>\n",
       "      <td>2018-10-05 12:53:57</td>\n",
       "    </tr>\n",
       "    <tr>\n",
       "      <th>3</th>\n",
       "      <td>4</td>\n",
       "      <td>117797</td>\n",
       "      <td>1886815</td>\n",
       "      <td>280.0</td>\n",
       "      <td>2018-10-05 13:00:13</td>\n",
       "    </tr>\n",
       "    <tr>\n",
       "      <th>4</th>\n",
       "      <td>5</td>\n",
       "      <td>117798</td>\n",
       "      <td>1675612</td>\n",
       "      <td>130.0</td>\n",
       "      <td>2018-10-05 13:01:47</td>\n",
       "    </tr>\n",
       "  </tbody>\n",
       "</table>\n",
       "</div>"
      ],
      "text/plain": [
       "   index  order_id  client_id  total_sum        date_created\n",
       "0      1        10      10871      200.0 2015-11-18 14:57:05\n",
       "1      2        11      10406      110.0 2015-11-19 09:31:51\n",
       "2      3    117796     692412      110.0 2018-10-05 12:53:57\n",
       "3      4    117797    1886815      280.0 2018-10-05 13:00:13\n",
       "4      5    117798    1675612      130.0 2018-10-05 13:01:47"
      ]
     },
     "execution_count": 8,
     "metadata": {},
     "output_type": "execute_result"
    }
   ],
   "source": [
    "orders.head()"
   ]
  },
  {
   "cell_type": "code",
   "execution_count": null,
   "metadata": {
    "collapsed": true
   },
   "outputs": [],
   "source": []
  },
  {
   "cell_type": "code",
   "execution_count": null,
   "metadata": {
    "collapsed": true
   },
   "outputs": [],
   "source": []
  },
  {
   "cell_type": "markdown",
   "metadata": {},
   "source": [
    "## Дата / число дней с первого заказа"
   ]
  },
  {
   "cell_type": "markdown",
   "metadata": {},
   "source": [
    "#### SQL\n",
    "SELECT client_id, date_created FROM orders  \n",
    "ORDER BY date_created"
   ]
  },
  {
   "cell_type": "code",
   "execution_count": null,
   "metadata": {
    "collapsed": true
   },
   "outputs": [],
   "source": []
  },
  {
   "cell_type": "code",
   "execution_count": 9,
   "metadata": {},
   "outputs": [
    {
     "data": {
      "text/html": [
       "<div>\n",
       "<style>\n",
       "    .dataframe thead tr:only-child th {\n",
       "        text-align: right;\n",
       "    }\n",
       "\n",
       "    .dataframe thead th {\n",
       "        text-align: left;\n",
       "    }\n",
       "\n",
       "    .dataframe tbody tr th {\n",
       "        vertical-align: top;\n",
       "    }\n",
       "</style>\n",
       "<table border=\"1\" class=\"dataframe\">\n",
       "  <thead>\n",
       "    <tr style=\"text-align: right;\">\n",
       "      <th></th>\n",
       "      <th>index</th>\n",
       "      <th>order_id</th>\n",
       "      <th>client_id</th>\n",
       "      <th>total_sum</th>\n",
       "      <th>date_created</th>\n",
       "    </tr>\n",
       "  </thead>\n",
       "  <tbody>\n",
       "    <tr>\n",
       "      <th>0</th>\n",
       "      <td>1</td>\n",
       "      <td>10</td>\n",
       "      <td>10871</td>\n",
       "      <td>200.0</td>\n",
       "      <td>2015-11-18 14:57:05</td>\n",
       "    </tr>\n",
       "    <tr>\n",
       "      <th>1</th>\n",
       "      <td>2</td>\n",
       "      <td>11</td>\n",
       "      <td>10406</td>\n",
       "      <td>110.0</td>\n",
       "      <td>2015-11-19 09:31:51</td>\n",
       "    </tr>\n",
       "    <tr>\n",
       "      <th>2</th>\n",
       "      <td>3</td>\n",
       "      <td>117796</td>\n",
       "      <td>692412</td>\n",
       "      <td>110.0</td>\n",
       "      <td>2018-10-05 12:53:57</td>\n",
       "    </tr>\n",
       "    <tr>\n",
       "      <th>3</th>\n",
       "      <td>4</td>\n",
       "      <td>117797</td>\n",
       "      <td>1886815</td>\n",
       "      <td>280.0</td>\n",
       "      <td>2018-10-05 13:00:13</td>\n",
       "    </tr>\n",
       "    <tr>\n",
       "      <th>4</th>\n",
       "      <td>5</td>\n",
       "      <td>117798</td>\n",
       "      <td>1675612</td>\n",
       "      <td>130.0</td>\n",
       "      <td>2018-10-05 13:01:47</td>\n",
       "    </tr>\n",
       "  </tbody>\n",
       "</table>\n",
       "</div>"
      ],
      "text/plain": [
       "   index  order_id  client_id  total_sum        date_created\n",
       "0      1        10      10871      200.0 2015-11-18 14:57:05\n",
       "1      2        11      10406      110.0 2015-11-19 09:31:51\n",
       "2      3    117796     692412      110.0 2018-10-05 12:53:57\n",
       "3      4    117797    1886815      280.0 2018-10-05 13:00:13\n",
       "4      5    117798    1675612      130.0 2018-10-05 13:01:47"
      ]
     },
     "execution_count": 9,
     "metadata": {},
     "output_type": "execute_result"
    }
   ],
   "source": [
    "orders.head()"
   ]
  },
  {
   "cell_type": "code",
   "execution_count": 10,
   "metadata": {},
   "outputs": [
    {
     "data": {
      "text/html": [
       "<div>\n",
       "<style>\n",
       "    .dataframe thead tr:only-child th {\n",
       "        text-align: right;\n",
       "    }\n",
       "\n",
       "    .dataframe thead th {\n",
       "        text-align: left;\n",
       "    }\n",
       "\n",
       "    .dataframe tbody tr th {\n",
       "        vertical-align: top;\n",
       "    }\n",
       "</style>\n",
       "<table border=\"1\" class=\"dataframe\">\n",
       "  <thead>\n",
       "    <tr style=\"text-align: right;\">\n",
       "      <th></th>\n",
       "      <th>index</th>\n",
       "      <th>order_id</th>\n",
       "      <th>client_id</th>\n",
       "      <th>total_sum</th>\n",
       "      <th>date_created</th>\n",
       "    </tr>\n",
       "  </thead>\n",
       "  <tbody>\n",
       "    <tr>\n",
       "      <th>12730</th>\n",
       "      <td>27731</td>\n",
       "      <td>5</td>\n",
       "      <td>10406</td>\n",
       "      <td>425.0</td>\n",
       "      <td>2015-11-18 09:56:12</td>\n",
       "    </tr>\n",
       "    <tr>\n",
       "      <th>12731</th>\n",
       "      <td>27732</td>\n",
       "      <td>5000017740300288</td>\n",
       "      <td>2190876</td>\n",
       "      <td>930.0</td>\n",
       "      <td>2018-07-19 02:04:58</td>\n",
       "    </tr>\n",
       "    <tr>\n",
       "      <th>12732</th>\n",
       "      <td>27733</td>\n",
       "      <td>5000023696211968</td>\n",
       "      <td>502416</td>\n",
       "      <td>235.0</td>\n",
       "      <td>2018-03-26 04:47:22</td>\n",
       "    </tr>\n",
       "  </tbody>\n",
       "</table>\n",
       "</div>"
      ],
      "text/plain": [
       "       index          order_id  client_id  total_sum        date_created\n",
       "12730  27731                 5      10406      425.0 2015-11-18 09:56:12\n",
       "12731  27732  5000017740300288    2190876      930.0 2018-07-19 02:04:58\n",
       "12732  27733  5000023696211968     502416      235.0 2018-03-26 04:47:22"
      ]
     },
     "execution_count": 10,
     "metadata": {},
     "output_type": "execute_result"
    }
   ],
   "source": [
    "orders[27730:27733]"
   ]
  },
  {
   "cell_type": "code",
   "execution_count": 11,
   "metadata": {},
   "outputs": [
    {
     "name": "stdout",
     "output_type": "stream",
     "text": [
      "<class 'pandas.core.frame.DataFrame'>\n",
      "Int64Index: 114863 entries, 0 to 9862\n",
      "Data columns (total 5 columns):\n",
      "index           114863 non-null int64\n",
      "order_id        114863 non-null int64\n",
      "client_id       114863 non-null int64\n",
      "total_sum       114863 non-null float64\n",
      "date_created    114863 non-null datetime64[ns]\n",
      "dtypes: datetime64[ns](1), float64(1), int64(3)\n",
      "memory usage: 5.3 MB\n"
     ]
    }
   ],
   "source": [
    "orders.info()"
   ]
  },
  {
   "cell_type": "code",
   "execution_count": null,
   "metadata": {
    "collapsed": true
   },
   "outputs": [],
   "source": []
  },
  {
   "cell_type": "code",
   "execution_count": null,
   "metadata": {
    "collapsed": true
   },
   "outputs": [],
   "source": []
  },
  {
   "cell_type": "code",
   "execution_count": 12,
   "metadata": {
    "collapsed": true
   },
   "outputs": [],
   "source": [
    "sort_orders = orders.sort_values(by=['date_created'])"
   ]
  },
  {
   "cell_type": "code",
   "execution_count": 13,
   "metadata": {},
   "outputs": [
    {
     "data": {
      "text/html": [
       "<div>\n",
       "<style>\n",
       "    .dataframe thead tr:only-child th {\n",
       "        text-align: right;\n",
       "    }\n",
       "\n",
       "    .dataframe thead th {\n",
       "        text-align: left;\n",
       "    }\n",
       "\n",
       "    .dataframe tbody tr th {\n",
       "        vertical-align: top;\n",
       "    }\n",
       "</style>\n",
       "<table border=\"1\" class=\"dataframe\">\n",
       "  <thead>\n",
       "    <tr style=\"text-align: right;\">\n",
       "      <th></th>\n",
       "      <th>index</th>\n",
       "      <th>order_id</th>\n",
       "      <th>client_id</th>\n",
       "      <th>total_sum</th>\n",
       "      <th>date_created</th>\n",
       "    </tr>\n",
       "  </thead>\n",
       "  <tbody>\n",
       "    <tr>\n",
       "      <th>4494</th>\n",
       "      <td>4495</td>\n",
       "      <td>2</td>\n",
       "      <td>10871</td>\n",
       "      <td>225.0</td>\n",
       "      <td>2015-11-16 10:53:22</td>\n",
       "    </tr>\n",
       "    <tr>\n",
       "      <th>4502</th>\n",
       "      <td>4503</td>\n",
       "      <td>3</td>\n",
       "      <td>10871</td>\n",
       "      <td>350.0</td>\n",
       "      <td>2015-11-17 08:39:43</td>\n",
       "    </tr>\n",
       "    <tr>\n",
       "      <th>4509</th>\n",
       "      <td>4510</td>\n",
       "      <td>4</td>\n",
       "      <td>10871</td>\n",
       "      <td>60.0</td>\n",
       "      <td>2015-11-17 12:07:46</td>\n",
       "    </tr>\n",
       "    <tr>\n",
       "      <th>12730</th>\n",
       "      <td>27731</td>\n",
       "      <td>5</td>\n",
       "      <td>10406</td>\n",
       "      <td>425.0</td>\n",
       "      <td>2015-11-18 09:56:12</td>\n",
       "    </tr>\n",
       "    <tr>\n",
       "      <th>4701</th>\n",
       "      <td>79702</td>\n",
       "      <td>6</td>\n",
       "      <td>10406</td>\n",
       "      <td>130.0</td>\n",
       "      <td>2015-11-18 14:12:20</td>\n",
       "    </tr>\n",
       "  </tbody>\n",
       "</table>\n",
       "</div>"
      ],
      "text/plain": [
       "       index  order_id  client_id  total_sum        date_created\n",
       "4494    4495         2      10871      225.0 2015-11-16 10:53:22\n",
       "4502    4503         3      10871      350.0 2015-11-17 08:39:43\n",
       "4509    4510         4      10871       60.0 2015-11-17 12:07:46\n",
       "12730  27731         5      10406      425.0 2015-11-18 09:56:12\n",
       "4701   79702         6      10406      130.0 2015-11-18 14:12:20"
      ]
     },
     "execution_count": 13,
     "metadata": {},
     "output_type": "execute_result"
    }
   ],
   "source": [
    "sort_orders.head()"
   ]
  },
  {
   "cell_type": "code",
   "execution_count": 84,
   "metadata": {},
   "outputs": [
    {
     "data": {
      "text/plain": [
       "4494     10871\n",
       "4502     10871\n",
       "4509     10871\n",
       "12730    10406\n",
       "4701     10406\n",
       "Name: client_id, dtype: int64"
      ]
     },
     "execution_count": 84,
     "metadata": {},
     "output_type": "execute_result"
    }
   ],
   "source": [
    "sort_orders['client_id'][:5]"
   ]
  },
  {
   "cell_type": "code",
   "execution_count": 15,
   "metadata": {
    "collapsed": true
   },
   "outputs": [],
   "source": [
    "client_info = {}\n",
    "\n",
    "for index, row in sort_orders.iterrows():\n",
    "    tmp = []\n",
    "    if row['client_id'] in client_info:\n",
    "        client_info[row['client_id']].append(row['date_created'])\n",
    "    else:\n",
    "        tmp.append(row['date_created'])\n",
    "        client_info[row['client_id']] = tmp"
   ]
  },
  {
   "cell_type": "code",
   "execution_count": 93,
   "metadata": {
    "scrolled": true
   },
   "outputs": [],
   "source": [
    "client_info;"
   ]
  },
  {
   "cell_type": "code",
   "execution_count": 92,
   "metadata": {},
   "outputs": [
    {
     "data": {
      "text/plain": [
       "{10871: [Timestamp('2015-11-16 10:53:22'),\n",
       "  Timestamp('2015-11-17 08:39:43'),\n",
       "  Timestamp('2015-11-17 12:07:46'),\n",
       "  Timestamp('2015-11-18 14:57:05'),\n",
       "  Timestamp('2015-12-06 10:09:13'),\n",
       "  Timestamp('2015-12-18 09:21:18')],\n",
       " 11234: [Timestamp('2015-11-19 15:37:42'),\n",
       "  Timestamp('2015-11-19 15:40:20'),\n",
       "  Timestamp('2015-11-19 16:23:30')]}"
      ]
     },
     "execution_count": 92,
     "metadata": {},
     "output_type": "execute_result"
    }
   ],
   "source": [
    "{x:client_info[x] for x in [10871, 11234]}"
   ]
  },
  {
   "cell_type": "code",
   "execution_count": 17,
   "metadata": {
    "collapsed": true
   },
   "outputs": [],
   "source": [
    "right_now = datetime.now()\n",
    "time_from_first_order = {}\n",
    "for client in client_info:\n",
    "    time_from_first_order[client] = client_info[client][0] - right_now"
   ]
  },
  {
   "cell_type": "code",
   "execution_count": 94,
   "metadata": {},
   "outputs": [],
   "source": [
    "time_from_first_order;"
   ]
  },
  {
   "cell_type": "code",
   "execution_count": 95,
   "metadata": {},
   "outputs": [
    {
     "data": {
      "text/plain": [
       "{10871: -1285, 11234: -1281}"
      ]
     },
     "execution_count": 95,
     "metadata": {},
     "output_type": "execute_result"
    }
   ],
   "source": [
    "{x:time_from_first_order[x] for x in [10871, 11234]}"
   ]
  },
  {
   "cell_type": "markdown",
   "metadata": {},
   "source": [
    "## Дата / число дней с последнего заказа"
   ]
  },
  {
   "cell_type": "code",
   "execution_count": 19,
   "metadata": {
    "collapsed": true
   },
   "outputs": [],
   "source": [
    "right_now = datetime.now()\n",
    "time_from_last_order = {}\n",
    "for client in client_info:\n",
    "    time_from_last_order[client] = client_info[client][-1] - right_now"
   ]
  },
  {
   "cell_type": "code",
   "execution_count": 97,
   "metadata": {},
   "outputs": [],
   "source": [
    "time_from_last_order;"
   ]
  },
  {
   "cell_type": "code",
   "execution_count": 96,
   "metadata": {},
   "outputs": [
    {
     "data": {
      "text/plain": [
       "{10871: -1253, 11234: -1281}"
      ]
     },
     "execution_count": 96,
     "metadata": {},
     "output_type": "execute_result"
    }
   ],
   "source": [
    "{x:time_from_last_order[x] for x in [10871, 11234]}"
   ]
  },
  {
   "cell_type": "markdown",
   "metadata": {},
   "source": [
    "## Среднее число дней между заказами"
   ]
  },
  {
   "cell_type": "code",
   "execution_count": null,
   "metadata": {
    "collapsed": true
   },
   "outputs": [],
   "source": []
  },
  {
   "cell_type": "code",
   "execution_count": 21,
   "metadata": {
    "collapsed": true
   },
   "outputs": [],
   "source": [
    "def get_mean_time(client_info):\n",
    "    mean_time_between_orders = {}\n",
    "    for client in client_info:\n",
    "        timestamps = client_info[client]\n",
    "        if len(timestamps) == 1:\n",
    "            mean_time_between_orders[client] = 0\n",
    "            continue\n",
    "        cnt = 0\n",
    "        last_date = timestamps[0] \n",
    "        time_between = 0\n",
    "        for time in timestamps[1:]:\n",
    "            diff = time - last_date\n",
    "            time_between += diff.days\n",
    "            cnt += 1\n",
    "        mean_time_between_orders[client] = time_between/cnt\n",
    "    return mean_time_between_orders"
   ]
  },
  {
   "cell_type": "code",
   "execution_count": 22,
   "metadata": {
    "collapsed": true
   },
   "outputs": [],
   "source": [
    "mean_time_between_orders = get_mean_time(client_info)"
   ]
  },
  {
   "cell_type": "code",
   "execution_count": 98,
   "metadata": {},
   "outputs": [],
   "source": [
    "mean_time_between_orders;"
   ]
  },
  {
   "cell_type": "code",
   "execution_count": 99,
   "metadata": {},
   "outputs": [
    {
     "data": {
      "text/plain": [
       "{10871: 10.6, 11234: 0.0}"
      ]
     },
     "execution_count": 99,
     "metadata": {},
     "output_type": "execute_result"
    }
   ],
   "source": [
    "{x:mean_time_between_orders[x] for x in [10871, 11234]}"
   ]
  },
  {
   "cell_type": "markdown",
   "metadata": {},
   "source": [
    "## средняя стоимость заказа"
   ]
  },
  {
   "cell_type": "markdown",
   "metadata": {},
   "source": [
    "#### SQL\n",
    "SELECT client_id, SUM(total_sum), COUNT(*), SUM(total_sum)/ (COUNT(*)*1.0) FROM orders  \n",
    "GROUP BY client_id;"
   ]
  },
  {
   "cell_type": "code",
   "execution_count": 24,
   "metadata": {},
   "outputs": [
    {
     "data": {
      "text/html": [
       "<div>\n",
       "<style>\n",
       "    .dataframe thead tr:only-child th {\n",
       "        text-align: right;\n",
       "    }\n",
       "\n",
       "    .dataframe thead th {\n",
       "        text-align: left;\n",
       "    }\n",
       "\n",
       "    .dataframe tbody tr th {\n",
       "        vertical-align: top;\n",
       "    }\n",
       "</style>\n",
       "<table border=\"1\" class=\"dataframe\">\n",
       "  <thead>\n",
       "    <tr style=\"text-align: right;\">\n",
       "      <th></th>\n",
       "      <th>client_id</th>\n",
       "      <th>total_sum</th>\n",
       "    </tr>\n",
       "  </thead>\n",
       "  <tbody>\n",
       "    <tr>\n",
       "      <th>0</th>\n",
       "      <td>10871</td>\n",
       "      <td>200.0</td>\n",
       "    </tr>\n",
       "    <tr>\n",
       "      <th>1</th>\n",
       "      <td>10406</td>\n",
       "      <td>110.0</td>\n",
       "    </tr>\n",
       "    <tr>\n",
       "      <th>2</th>\n",
       "      <td>692412</td>\n",
       "      <td>110.0</td>\n",
       "    </tr>\n",
       "    <tr>\n",
       "      <th>3</th>\n",
       "      <td>1886815</td>\n",
       "      <td>280.0</td>\n",
       "    </tr>\n",
       "    <tr>\n",
       "      <th>4</th>\n",
       "      <td>1675612</td>\n",
       "      <td>130.0</td>\n",
       "    </tr>\n",
       "  </tbody>\n",
       "</table>\n",
       "</div>"
      ],
      "text/plain": [
       "   client_id  total_sum\n",
       "0      10871      200.0\n",
       "1      10406      110.0\n",
       "2     692412      110.0\n",
       "3    1886815      280.0\n",
       "4    1675612      130.0"
      ]
     },
     "execution_count": 24,
     "metadata": {},
     "output_type": "execute_result"
    }
   ],
   "source": [
    "client_and_sum = orders[['client_id', 'total_sum']]\n",
    "client_and_sum.head()"
   ]
  },
  {
   "cell_type": "code",
   "execution_count": 25,
   "metadata": {},
   "outputs": [
    {
     "data": {
      "text/html": [
       "<div>\n",
       "<style>\n",
       "    .dataframe thead tr:only-child th {\n",
       "        text-align: right;\n",
       "    }\n",
       "\n",
       "    .dataframe thead th {\n",
       "        text-align: left;\n",
       "    }\n",
       "\n",
       "    .dataframe tbody tr th {\n",
       "        vertical-align: top;\n",
       "    }\n",
       "</style>\n",
       "<table border=\"1\" class=\"dataframe\">\n",
       "  <thead>\n",
       "    <tr style=\"text-align: right;\">\n",
       "      <th></th>\n",
       "      <th>total_sum</th>\n",
       "    </tr>\n",
       "    <tr>\n",
       "      <th>client_id</th>\n",
       "      <th></th>\n",
       "    </tr>\n",
       "  </thead>\n",
       "  <tbody>\n",
       "    <tr>\n",
       "      <th>10871</th>\n",
       "      <td>200.0</td>\n",
       "    </tr>\n",
       "    <tr>\n",
       "      <th>10406</th>\n",
       "      <td>110.0</td>\n",
       "    </tr>\n",
       "    <tr>\n",
       "      <th>692412</th>\n",
       "      <td>110.0</td>\n",
       "    </tr>\n",
       "    <tr>\n",
       "      <th>1886815</th>\n",
       "      <td>280.0</td>\n",
       "    </tr>\n",
       "    <tr>\n",
       "      <th>1675612</th>\n",
       "      <td>130.0</td>\n",
       "    </tr>\n",
       "  </tbody>\n",
       "</table>\n",
       "</div>"
      ],
      "text/plain": [
       "           total_sum\n",
       "client_id           \n",
       "10871          200.0\n",
       "10406          110.0\n",
       "692412         110.0\n",
       "1886815        280.0\n",
       "1675612        130.0"
      ]
     },
     "execution_count": 25,
     "metadata": {},
     "output_type": "execute_result"
    }
   ],
   "source": [
    "client_and_sum = client_and_sum.set_index('client_id')\n",
    "client_and_sum.head()"
   ]
  },
  {
   "cell_type": "code",
   "execution_count": 100,
   "metadata": {
    "scrolled": true
   },
   "outputs": [],
   "source": [
    "client_and_sum.groupby('client_id').size();"
   ]
  },
  {
   "cell_type": "code",
   "execution_count": 27,
   "metadata": {
    "collapsed": true
   },
   "outputs": [],
   "source": [
    "grouped_client_sum = client_and_sum.groupby('client_id').sum()\n",
    "grouped_client_count = client_and_sum.groupby('client_id').count()"
   ]
  },
  {
   "cell_type": "code",
   "execution_count": 28,
   "metadata": {
    "collapsed": true
   },
   "outputs": [],
   "source": [
    "grouped_client = pd.merge(left=grouped_client_sum, right=grouped_client_count, how='outer', left_index=True, right_index=True)"
   ]
  },
  {
   "cell_type": "code",
   "execution_count": 29,
   "metadata": {},
   "outputs": [
    {
     "data": {
      "text/html": [
       "<div>\n",
       "<style>\n",
       "    .dataframe thead tr:only-child th {\n",
       "        text-align: right;\n",
       "    }\n",
       "\n",
       "    .dataframe thead th {\n",
       "        text-align: left;\n",
       "    }\n",
       "\n",
       "    .dataframe tbody tr th {\n",
       "        vertical-align: top;\n",
       "    }\n",
       "</style>\n",
       "<table border=\"1\" class=\"dataframe\">\n",
       "  <thead>\n",
       "    <tr style=\"text-align: right;\">\n",
       "      <th></th>\n",
       "      <th>total_sum</th>\n",
       "      <th>total_count</th>\n",
       "    </tr>\n",
       "    <tr>\n",
       "      <th>client_id</th>\n",
       "      <th></th>\n",
       "      <th></th>\n",
       "    </tr>\n",
       "  </thead>\n",
       "  <tbody>\n",
       "    <tr>\n",
       "      <th>10406</th>\n",
       "      <td>10075.0</td>\n",
       "      <td>31</td>\n",
       "    </tr>\n",
       "    <tr>\n",
       "      <th>10871</th>\n",
       "      <td>1145.0</td>\n",
       "      <td>6</td>\n",
       "    </tr>\n",
       "    <tr>\n",
       "      <th>11229</th>\n",
       "      <td>4015.0</td>\n",
       "      <td>25</td>\n",
       "    </tr>\n",
       "    <tr>\n",
       "      <th>11234</th>\n",
       "      <td>1135.0</td>\n",
       "      <td>3</td>\n",
       "    </tr>\n",
       "    <tr>\n",
       "      <th>13768</th>\n",
       "      <td>60.0</td>\n",
       "      <td>1</td>\n",
       "    </tr>\n",
       "  </tbody>\n",
       "</table>\n",
       "</div>"
      ],
      "text/plain": [
       "           total_sum  total_count\n",
       "client_id                        \n",
       "10406        10075.0           31\n",
       "10871         1145.0            6\n",
       "11229         4015.0           25\n",
       "11234         1135.0            3\n",
       "13768           60.0            1"
      ]
     },
     "execution_count": 29,
     "metadata": {},
     "output_type": "execute_result"
    }
   ],
   "source": [
    "grouped_client.columns = ['total_sum', 'total_count']\n",
    "grouped_client.head()"
   ]
  },
  {
   "cell_type": "code",
   "execution_count": 30,
   "metadata": {
    "collapsed": true
   },
   "outputs": [],
   "source": [
    "# grouped_client['mean_order'] = (grouped_client.total_sum)/(grouped_ client.total_count)"
   ]
  },
  {
   "cell_type": "code",
   "execution_count": 31,
   "metadata": {},
   "outputs": [
    {
     "data": {
      "text/html": [
       "<div>\n",
       "<style>\n",
       "    .dataframe thead tr:only-child th {\n",
       "        text-align: right;\n",
       "    }\n",
       "\n",
       "    .dataframe thead th {\n",
       "        text-align: left;\n",
       "    }\n",
       "\n",
       "    .dataframe tbody tr th {\n",
       "        vertical-align: top;\n",
       "    }\n",
       "</style>\n",
       "<table border=\"1\" class=\"dataframe\">\n",
       "  <thead>\n",
       "    <tr style=\"text-align: right;\">\n",
       "      <th></th>\n",
       "      <th>total_sum</th>\n",
       "      <th>total_count</th>\n",
       "    </tr>\n",
       "    <tr>\n",
       "      <th>client_id</th>\n",
       "      <th></th>\n",
       "      <th></th>\n",
       "    </tr>\n",
       "  </thead>\n",
       "  <tbody>\n",
       "    <tr>\n",
       "      <th>10406</th>\n",
       "      <td>10075.0</td>\n",
       "      <td>31</td>\n",
       "    </tr>\n",
       "    <tr>\n",
       "      <th>10871</th>\n",
       "      <td>1145.0</td>\n",
       "      <td>6</td>\n",
       "    </tr>\n",
       "    <tr>\n",
       "      <th>11229</th>\n",
       "      <td>4015.0</td>\n",
       "      <td>25</td>\n",
       "    </tr>\n",
       "    <tr>\n",
       "      <th>11234</th>\n",
       "      <td>1135.0</td>\n",
       "      <td>3</td>\n",
       "    </tr>\n",
       "    <tr>\n",
       "      <th>13768</th>\n",
       "      <td>60.0</td>\n",
       "      <td>1</td>\n",
       "    </tr>\n",
       "  </tbody>\n",
       "</table>\n",
       "</div>"
      ],
      "text/plain": [
       "           total_sum  total_count\n",
       "client_id                        \n",
       "10406        10075.0           31\n",
       "10871         1145.0            6\n",
       "11229         4015.0           25\n",
       "11234         1135.0            3\n",
       "13768           60.0            1"
      ]
     },
     "execution_count": 31,
     "metadata": {},
     "output_type": "execute_result"
    }
   ],
   "source": [
    "grouped_client.head()"
   ]
  },
  {
   "cell_type": "code",
   "execution_count": null,
   "metadata": {
    "collapsed": true
   },
   "outputs": [],
   "source": []
  },
  {
   "cell_type": "markdown",
   "metadata": {},
   "source": [
    "## Число заказов по дням недели "
   ]
  },
  {
   "cell_type": "code",
   "execution_count": 32,
   "metadata": {},
   "outputs": [
    {
     "data": {
      "text/html": [
       "<div>\n",
       "<style>\n",
       "    .dataframe thead tr:only-child th {\n",
       "        text-align: right;\n",
       "    }\n",
       "\n",
       "    .dataframe thead th {\n",
       "        text-align: left;\n",
       "    }\n",
       "\n",
       "    .dataframe tbody tr th {\n",
       "        vertical-align: top;\n",
       "    }\n",
       "</style>\n",
       "<table border=\"1\" class=\"dataframe\">\n",
       "  <thead>\n",
       "    <tr style=\"text-align: right;\">\n",
       "      <th></th>\n",
       "      <th>index</th>\n",
       "      <th>order_id</th>\n",
       "      <th>client_id</th>\n",
       "      <th>total_sum</th>\n",
       "      <th>date_created</th>\n",
       "    </tr>\n",
       "  </thead>\n",
       "  <tbody>\n",
       "    <tr>\n",
       "      <th>0</th>\n",
       "      <td>1</td>\n",
       "      <td>10</td>\n",
       "      <td>10871</td>\n",
       "      <td>200.0</td>\n",
       "      <td>2015-11-18 14:57:05</td>\n",
       "    </tr>\n",
       "    <tr>\n",
       "      <th>1</th>\n",
       "      <td>2</td>\n",
       "      <td>11</td>\n",
       "      <td>10406</td>\n",
       "      <td>110.0</td>\n",
       "      <td>2015-11-19 09:31:51</td>\n",
       "    </tr>\n",
       "    <tr>\n",
       "      <th>2</th>\n",
       "      <td>3</td>\n",
       "      <td>117796</td>\n",
       "      <td>692412</td>\n",
       "      <td>110.0</td>\n",
       "      <td>2018-10-05 12:53:57</td>\n",
       "    </tr>\n",
       "    <tr>\n",
       "      <th>3</th>\n",
       "      <td>4</td>\n",
       "      <td>117797</td>\n",
       "      <td>1886815</td>\n",
       "      <td>280.0</td>\n",
       "      <td>2018-10-05 13:00:13</td>\n",
       "    </tr>\n",
       "    <tr>\n",
       "      <th>4</th>\n",
       "      <td>5</td>\n",
       "      <td>117798</td>\n",
       "      <td>1675612</td>\n",
       "      <td>130.0</td>\n",
       "      <td>2018-10-05 13:01:47</td>\n",
       "    </tr>\n",
       "  </tbody>\n",
       "</table>\n",
       "</div>"
      ],
      "text/plain": [
       "   index  order_id  client_id  total_sum        date_created\n",
       "0      1        10      10871      200.0 2015-11-18 14:57:05\n",
       "1      2        11      10406      110.0 2015-11-19 09:31:51\n",
       "2      3    117796     692412      110.0 2018-10-05 12:53:57\n",
       "3      4    117797    1886815      280.0 2018-10-05 13:00:13\n",
       "4      5    117798    1675612      130.0 2018-10-05 13:01:47"
      ]
     },
     "execution_count": 32,
     "metadata": {},
     "output_type": "execute_result"
    }
   ],
   "source": [
    "orders.head()"
   ]
  },
  {
   "cell_type": "code",
   "execution_count": 33,
   "metadata": {},
   "outputs": [
    {
     "data": {
      "text/html": [
       "<div>\n",
       "<style>\n",
       "    .dataframe thead tr:only-child th {\n",
       "        text-align: right;\n",
       "    }\n",
       "\n",
       "    .dataframe thead th {\n",
       "        text-align: left;\n",
       "    }\n",
       "\n",
       "    .dataframe tbody tr th {\n",
       "        vertical-align: top;\n",
       "    }\n",
       "</style>\n",
       "<table border=\"1\" class=\"dataframe\">\n",
       "  <thead>\n",
       "    <tr style=\"text-align: right;\">\n",
       "      <th></th>\n",
       "      <th>index</th>\n",
       "      <th>order_id</th>\n",
       "      <th>client_id</th>\n",
       "      <th>date_created</th>\n",
       "    </tr>\n",
       "  </thead>\n",
       "  <tbody>\n",
       "    <tr>\n",
       "      <th>0</th>\n",
       "      <td>1</td>\n",
       "      <td>10</td>\n",
       "      <td>10871</td>\n",
       "      <td>2015-11-18 14:57:05</td>\n",
       "    </tr>\n",
       "    <tr>\n",
       "      <th>1</th>\n",
       "      <td>2</td>\n",
       "      <td>11</td>\n",
       "      <td>10406</td>\n",
       "      <td>2015-11-19 09:31:51</td>\n",
       "    </tr>\n",
       "    <tr>\n",
       "      <th>2</th>\n",
       "      <td>3</td>\n",
       "      <td>117796</td>\n",
       "      <td>692412</td>\n",
       "      <td>2018-10-05 12:53:57</td>\n",
       "    </tr>\n",
       "    <tr>\n",
       "      <th>3</th>\n",
       "      <td>4</td>\n",
       "      <td>117797</td>\n",
       "      <td>1886815</td>\n",
       "      <td>2018-10-05 13:00:13</td>\n",
       "    </tr>\n",
       "    <tr>\n",
       "      <th>4</th>\n",
       "      <td>5</td>\n",
       "      <td>117798</td>\n",
       "      <td>1675612</td>\n",
       "      <td>2018-10-05 13:01:47</td>\n",
       "    </tr>\n",
       "  </tbody>\n",
       "</table>\n",
       "</div>"
      ],
      "text/plain": [
       "   index  order_id  client_id        date_created\n",
       "0      1        10      10871 2015-11-18 14:57:05\n",
       "1      2        11      10406 2015-11-19 09:31:51\n",
       "2      3    117796     692412 2018-10-05 12:53:57\n",
       "3      4    117797    1886815 2018-10-05 13:00:13\n",
       "4      5    117798    1675612 2018-10-05 13:01:47"
      ]
     },
     "execution_count": 33,
     "metadata": {},
     "output_type": "execute_result"
    }
   ],
   "source": [
    "ord_weekdays = orders[['index','order_id','client_id','date_created']]\n",
    "ord_weekdays.head()"
   ]
  },
  {
   "cell_type": "code",
   "execution_count": 34,
   "metadata": {
    "collapsed": true
   },
   "outputs": [],
   "source": [
    "ord_weekdays['weekday'] = ord_weekdays['date_created'].dt.dayofweek"
   ]
  },
  {
   "cell_type": "code",
   "execution_count": 35,
   "metadata": {
    "collapsed": true
   },
   "outputs": [],
   "source": [
    "ord_weekdays['days_name'] = ord_weekdays[['date_created']].apply(lambda x: datetime.strftime(x['date_created'], '%A'), axis=1)"
   ]
  },
  {
   "cell_type": "code",
   "execution_count": 36,
   "metadata": {},
   "outputs": [
    {
     "data": {
      "text/html": [
       "<div>\n",
       "<style>\n",
       "    .dataframe thead tr:only-child th {\n",
       "        text-align: right;\n",
       "    }\n",
       "\n",
       "    .dataframe thead th {\n",
       "        text-align: left;\n",
       "    }\n",
       "\n",
       "    .dataframe tbody tr th {\n",
       "        vertical-align: top;\n",
       "    }\n",
       "</style>\n",
       "<table border=\"1\" class=\"dataframe\">\n",
       "  <thead>\n",
       "    <tr style=\"text-align: right;\">\n",
       "      <th></th>\n",
       "      <th>index</th>\n",
       "      <th>order_id</th>\n",
       "      <th>client_id</th>\n",
       "      <th>date_created</th>\n",
       "      <th>weekday</th>\n",
       "      <th>days_name</th>\n",
       "    </tr>\n",
       "  </thead>\n",
       "  <tbody>\n",
       "    <tr>\n",
       "      <th>0</th>\n",
       "      <td>1</td>\n",
       "      <td>10</td>\n",
       "      <td>10871</td>\n",
       "      <td>2015-11-18 14:57:05</td>\n",
       "      <td>2</td>\n",
       "      <td>Wednesday</td>\n",
       "    </tr>\n",
       "    <tr>\n",
       "      <th>1</th>\n",
       "      <td>2</td>\n",
       "      <td>11</td>\n",
       "      <td>10406</td>\n",
       "      <td>2015-11-19 09:31:51</td>\n",
       "      <td>3</td>\n",
       "      <td>Thursday</td>\n",
       "    </tr>\n",
       "    <tr>\n",
       "      <th>2</th>\n",
       "      <td>3</td>\n",
       "      <td>117796</td>\n",
       "      <td>692412</td>\n",
       "      <td>2018-10-05 12:53:57</td>\n",
       "      <td>4</td>\n",
       "      <td>Friday</td>\n",
       "    </tr>\n",
       "    <tr>\n",
       "      <th>3</th>\n",
       "      <td>4</td>\n",
       "      <td>117797</td>\n",
       "      <td>1886815</td>\n",
       "      <td>2018-10-05 13:00:13</td>\n",
       "      <td>4</td>\n",
       "      <td>Friday</td>\n",
       "    </tr>\n",
       "    <tr>\n",
       "      <th>4</th>\n",
       "      <td>5</td>\n",
       "      <td>117798</td>\n",
       "      <td>1675612</td>\n",
       "      <td>2018-10-05 13:01:47</td>\n",
       "      <td>4</td>\n",
       "      <td>Friday</td>\n",
       "    </tr>\n",
       "  </tbody>\n",
       "</table>\n",
       "</div>"
      ],
      "text/plain": [
       "   index  order_id  client_id        date_created  weekday  days_name\n",
       "0      1        10      10871 2015-11-18 14:57:05        2  Wednesday\n",
       "1      2        11      10406 2015-11-19 09:31:51        3   Thursday\n",
       "2      3    117796     692412 2018-10-05 12:53:57        4     Friday\n",
       "3      4    117797    1886815 2018-10-05 13:00:13        4     Friday\n",
       "4      5    117798    1675612 2018-10-05 13:01:47        4     Friday"
      ]
     },
     "execution_count": 36,
     "metadata": {},
     "output_type": "execute_result"
    }
   ],
   "source": [
    "ord_weekdays.head()"
   ]
  },
  {
   "cell_type": "code",
   "execution_count": 37,
   "metadata": {},
   "outputs": [
    {
     "data": {
      "text/html": [
       "<div>\n",
       "<style>\n",
       "    .dataframe thead tr:only-child th {\n",
       "        text-align: right;\n",
       "    }\n",
       "\n",
       "    .dataframe thead th {\n",
       "        text-align: left;\n",
       "    }\n",
       "\n",
       "    .dataframe tbody tr th {\n",
       "        vertical-align: top;\n",
       "    }\n",
       "</style>\n",
       "<table border=\"1\" class=\"dataframe\">\n",
       "  <thead>\n",
       "    <tr style=\"text-align: right;\">\n",
       "      <th></th>\n",
       "      <th>index</th>\n",
       "      <th>order_id</th>\n",
       "      <th>client_id</th>\n",
       "      <th>date_created</th>\n",
       "      <th>weekday</th>\n",
       "      <th>days_name</th>\n",
       "    </tr>\n",
       "  </thead>\n",
       "  <tbody>\n",
       "    <tr>\n",
       "      <th>0</th>\n",
       "      <td>1</td>\n",
       "      <td>10</td>\n",
       "      <td>10871</td>\n",
       "      <td>2015-11-18 14:57:05</td>\n",
       "      <td>2</td>\n",
       "      <td>Wednesday</td>\n",
       "    </tr>\n",
       "    <tr>\n",
       "      <th>4494</th>\n",
       "      <td>4495</td>\n",
       "      <td>2</td>\n",
       "      <td>10871</td>\n",
       "      <td>2015-11-16 10:53:22</td>\n",
       "      <td>0</td>\n",
       "      <td>Monday</td>\n",
       "    </tr>\n",
       "    <tr>\n",
       "      <th>4499</th>\n",
       "      <td>4500</td>\n",
       "      <td>26</td>\n",
       "      <td>10871</td>\n",
       "      <td>2015-12-06 10:09:13</td>\n",
       "      <td>6</td>\n",
       "      <td>Sunday</td>\n",
       "    </tr>\n",
       "    <tr>\n",
       "      <th>4502</th>\n",
       "      <td>4503</td>\n",
       "      <td>3</td>\n",
       "      <td>10871</td>\n",
       "      <td>2015-11-17 08:39:43</td>\n",
       "      <td>1</td>\n",
       "      <td>Tuesday</td>\n",
       "    </tr>\n",
       "    <tr>\n",
       "      <th>4509</th>\n",
       "      <td>4510</td>\n",
       "      <td>4</td>\n",
       "      <td>10871</td>\n",
       "      <td>2015-11-17 12:07:46</td>\n",
       "      <td>1</td>\n",
       "      <td>Tuesday</td>\n",
       "    </tr>\n",
       "    <tr>\n",
       "      <th>2610</th>\n",
       "      <td>32611</td>\n",
       "      <td>51</td>\n",
       "      <td>10871</td>\n",
       "      <td>2015-12-18 09:21:18</td>\n",
       "      <td>4</td>\n",
       "      <td>Friday</td>\n",
       "    </tr>\n",
       "  </tbody>\n",
       "</table>\n",
       "</div>"
      ],
      "text/plain": [
       "      index  order_id  client_id        date_created  weekday  days_name\n",
       "0         1        10      10871 2015-11-18 14:57:05        2  Wednesday\n",
       "4494   4495         2      10871 2015-11-16 10:53:22        0     Monday\n",
       "4499   4500        26      10871 2015-12-06 10:09:13        6     Sunday\n",
       "4502   4503         3      10871 2015-11-17 08:39:43        1    Tuesday\n",
       "4509   4510         4      10871 2015-11-17 12:07:46        1    Tuesday\n",
       "2610  32611        51      10871 2015-12-18 09:21:18        4     Friday"
      ]
     },
     "execution_count": 37,
     "metadata": {},
     "output_type": "execute_result"
    }
   ],
   "source": [
    "ord_weekdays[ord_weekdays['client_id'] == 10871]"
   ]
  },
  {
   "cell_type": "code",
   "execution_count": 38,
   "metadata": {
    "collapsed": true
   },
   "outputs": [],
   "source": [
    "test = ord_weekdays[['order_id', 'client_id', 'date_created', 'weekday', 'days_name']]"
   ]
  },
  {
   "cell_type": "code",
   "execution_count": 39,
   "metadata": {
    "collapsed": true
   },
   "outputs": [],
   "source": [
    "group = test.groupby(['client_id', 'days_name']).size()"
   ]
  },
  {
   "cell_type": "code",
   "execution_count": 40,
   "metadata": {},
   "outputs": [
    {
     "data": {
      "text/plain": [
       "client_id  days_name\n",
       "10406      Friday       3\n",
       "           Monday       5\n",
       "           Saturday     1\n",
       "           Sunday       3\n",
       "           Thursday     7\n",
       "           Tuesday      7\n",
       "           Wednesday    5\n",
       "10871      Friday       1\n",
       "           Monday       1\n",
       "           Sunday       1\n",
       "           Tuesday      2\n",
       "           Wednesday    1\n",
       "11229      Friday       3\n",
       "           Monday       5\n",
       "           Sunday       4\n",
       "dtype: int64"
      ]
     },
     "execution_count": 40,
     "metadata": {},
     "output_type": "execute_result"
    }
   ],
   "source": [
    "tmp = group.head(15)\n",
    "tmp"
   ]
  },
  {
   "cell_type": "markdown",
   "metadata": {},
   "source": [
    "#### SQL\n",
    "select client_id,  DATEFORMAT(date_created, 'EEEE'), COUNT(DATEFORMAT(date_created, 'EEEE')) from orders  \n",
    "GROUP BY client_id, DATEFORMAT(date_created, 'EEEE')\n"
   ]
  },
  {
   "cell_type": "code",
   "execution_count": 41,
   "metadata": {},
   "outputs": [
    {
     "name": "stdout",
     "output_type": "stream",
     "text": [
      "10406 Friday 3\n",
      "10406 Monday 5\n",
      "10406 Saturday 1\n",
      "10406 Sunday 3\n",
      "10406 Thursday 7\n",
      "10406 Tuesday 7\n",
      "10406 Wednesday 5\n",
      "10871 Friday 1\n",
      "10871 Monday 1\n",
      "10871 Sunday 1\n",
      "10871 Tuesday 2\n",
      "10871 Wednesday 1\n",
      "11229 Friday 3\n",
      "11229 Monday 5\n",
      "11229 Sunday 4\n"
     ]
    }
   ],
   "source": [
    "for ind, val in tmp.items():\n",
    "    print(ind[0],ind[1], val)"
   ]
  },
  {
   "cell_type": "code",
   "execution_count": 42,
   "metadata": {
    "collapsed": true
   },
   "outputs": [],
   "source": [
    "from dateutil import rrule"
   ]
  },
  {
   "cell_type": "code",
   "execution_count": 43,
   "metadata": {},
   "outputs": [
    {
     "data": {
      "text/plain": [
       "28"
      ]
     },
     "execution_count": 43,
     "metadata": {},
     "output_type": "execute_result"
    }
   ],
   "source": [
    "def weeks_between(start_date, end_date):\n",
    "    weeks = rrule.rrule(rrule.WEEKLY, dtstart=start_date, until=end_date)\n",
    "    return weeks.count()\n",
    "\n",
    "orders_time = client_info[10406]\n",
    "number_of_weeks_between = 1\n",
    "if len(orders_time) == 1:\n",
    "    number_of_weeks_between = 1\n",
    "else:\n",
    "    number_of_weeks_between = weeks_between(orders_time[0], orders_time[-1])\n",
    "# orders_time\n",
    "number_of_weeks_between"
   ]
  },
  {
   "cell_type": "code",
   "execution_count": 101,
   "metadata": {},
   "outputs": [
    {
     "data": {
      "text/plain": [
       "{10871: {'Friday': 0.20000000000000001,\n",
       "  'Monday': 0.20000000000000001,\n",
       "  'Sunday': 0.20000000000000001,\n",
       "  'Tuesday': 0.40000000000000002,\n",
       "  'Wednesday': 0.20000000000000001},\n",
       " 11234: {'Thursday': 3.0}}"
      ]
     },
     "execution_count": 101,
     "metadata": {},
     "output_type": "execute_result"
    }
   ],
   "source": [
    "buy_days = {}\n",
    "for ind, val in group.items():\n",
    "    client_id = ind[0]\n",
    "    \n",
    "    orders_time = client_info[client_id]\n",
    "    number_of_weeks_between = 1\n",
    "    if len(orders_time) == 1:\n",
    "        number_of_weeks_between = 1\n",
    "    else:\n",
    "        number_of_weeks_between = weeks_between(orders_time[0], orders_time[-1])\n",
    "    \n",
    "    weekday = ind[1]\n",
    "    if client_id in buy_days:\n",
    "        val = val/number_of_weeks_between\n",
    "        buy_days[client_id][weekday] = val\n",
    "    else:\n",
    "        val = val/number_of_weeks_between\n",
    "        buy_days[client_id] = {weekday : val}\n",
    "\n",
    "buy_days;\n",
    "{x:buy_days[x] for x in [10871, 11234]}"
   ]
  },
  {
   "cell_type": "code",
   "execution_count": null,
   "metadata": {
    "collapsed": true
   },
   "outputs": [],
   "source": []
  },
  {
   "cell_type": "markdown",
   "metadata": {},
   "source": [
    "## Заказы по времени суток\n",
    "Разделил на утро (с 6 до 11), день (с 11 до 18) и вечер/ночь (с 18 до 6)"
   ]
  },
  {
   "cell_type": "code",
   "execution_count": 45,
   "metadata": {},
   "outputs": [
    {
     "data": {
      "text/html": [
       "<div>\n",
       "<style>\n",
       "    .dataframe thead tr:only-child th {\n",
       "        text-align: right;\n",
       "    }\n",
       "\n",
       "    .dataframe thead th {\n",
       "        text-align: left;\n",
       "    }\n",
       "\n",
       "    .dataframe tbody tr th {\n",
       "        vertical-align: top;\n",
       "    }\n",
       "</style>\n",
       "<table border=\"1\" class=\"dataframe\">\n",
       "  <thead>\n",
       "    <tr style=\"text-align: right;\">\n",
       "      <th></th>\n",
       "      <th>index</th>\n",
       "      <th>order_id</th>\n",
       "      <th>client_id</th>\n",
       "      <th>total_sum</th>\n",
       "      <th>date_created</th>\n",
       "    </tr>\n",
       "  </thead>\n",
       "  <tbody>\n",
       "    <tr>\n",
       "      <th>0</th>\n",
       "      <td>1</td>\n",
       "      <td>10</td>\n",
       "      <td>10871</td>\n",
       "      <td>200.0</td>\n",
       "      <td>2015-11-18 14:57:05</td>\n",
       "    </tr>\n",
       "    <tr>\n",
       "      <th>1</th>\n",
       "      <td>2</td>\n",
       "      <td>11</td>\n",
       "      <td>10406</td>\n",
       "      <td>110.0</td>\n",
       "      <td>2015-11-19 09:31:51</td>\n",
       "    </tr>\n",
       "    <tr>\n",
       "      <th>2</th>\n",
       "      <td>3</td>\n",
       "      <td>117796</td>\n",
       "      <td>692412</td>\n",
       "      <td>110.0</td>\n",
       "      <td>2018-10-05 12:53:57</td>\n",
       "    </tr>\n",
       "    <tr>\n",
       "      <th>3</th>\n",
       "      <td>4</td>\n",
       "      <td>117797</td>\n",
       "      <td>1886815</td>\n",
       "      <td>280.0</td>\n",
       "      <td>2018-10-05 13:00:13</td>\n",
       "    </tr>\n",
       "    <tr>\n",
       "      <th>4</th>\n",
       "      <td>5</td>\n",
       "      <td>117798</td>\n",
       "      <td>1675612</td>\n",
       "      <td>130.0</td>\n",
       "      <td>2018-10-05 13:01:47</td>\n",
       "    </tr>\n",
       "  </tbody>\n",
       "</table>\n",
       "</div>"
      ],
      "text/plain": [
       "   index  order_id  client_id  total_sum        date_created\n",
       "0      1        10      10871      200.0 2015-11-18 14:57:05\n",
       "1      2        11      10406      110.0 2015-11-19 09:31:51\n",
       "2      3    117796     692412      110.0 2018-10-05 12:53:57\n",
       "3      4    117797    1886815      280.0 2018-10-05 13:00:13\n",
       "4      5    117798    1675612      130.0 2018-10-05 13:01:47"
      ]
     },
     "execution_count": 45,
     "metadata": {},
     "output_type": "execute_result"
    }
   ],
   "source": [
    "orders.head()"
   ]
  },
  {
   "cell_type": "code",
   "execution_count": 46,
   "metadata": {},
   "outputs": [
    {
     "data": {
      "text/html": [
       "<div>\n",
       "<style>\n",
       "    .dataframe thead tr:only-child th {\n",
       "        text-align: right;\n",
       "    }\n",
       "\n",
       "    .dataframe thead th {\n",
       "        text-align: left;\n",
       "    }\n",
       "\n",
       "    .dataframe tbody tr th {\n",
       "        vertical-align: top;\n",
       "    }\n",
       "</style>\n",
       "<table border=\"1\" class=\"dataframe\">\n",
       "  <thead>\n",
       "    <tr style=\"text-align: right;\">\n",
       "      <th></th>\n",
       "      <th>index</th>\n",
       "      <th>order_id</th>\n",
       "      <th>client_id</th>\n",
       "      <th>date_created</th>\n",
       "    </tr>\n",
       "  </thead>\n",
       "  <tbody>\n",
       "    <tr>\n",
       "      <th>0</th>\n",
       "      <td>1</td>\n",
       "      <td>10</td>\n",
       "      <td>10871</td>\n",
       "      <td>2015-11-18 14:57:05</td>\n",
       "    </tr>\n",
       "    <tr>\n",
       "      <th>1</th>\n",
       "      <td>2</td>\n",
       "      <td>11</td>\n",
       "      <td>10406</td>\n",
       "      <td>2015-11-19 09:31:51</td>\n",
       "    </tr>\n",
       "    <tr>\n",
       "      <th>2</th>\n",
       "      <td>3</td>\n",
       "      <td>117796</td>\n",
       "      <td>692412</td>\n",
       "      <td>2018-10-05 12:53:57</td>\n",
       "    </tr>\n",
       "    <tr>\n",
       "      <th>3</th>\n",
       "      <td>4</td>\n",
       "      <td>117797</td>\n",
       "      <td>1886815</td>\n",
       "      <td>2018-10-05 13:00:13</td>\n",
       "    </tr>\n",
       "    <tr>\n",
       "      <th>4</th>\n",
       "      <td>5</td>\n",
       "      <td>117798</td>\n",
       "      <td>1675612</td>\n",
       "      <td>2018-10-05 13:01:47</td>\n",
       "    </tr>\n",
       "  </tbody>\n",
       "</table>\n",
       "</div>"
      ],
      "text/plain": [
       "   index  order_id  client_id        date_created\n",
       "0      1        10      10871 2015-11-18 14:57:05\n",
       "1      2        11      10406 2015-11-19 09:31:51\n",
       "2      3    117796     692412 2018-10-05 12:53:57\n",
       "3      4    117797    1886815 2018-10-05 13:00:13\n",
       "4      5    117798    1675612 2018-10-05 13:01:47"
      ]
     },
     "execution_count": 46,
     "metadata": {},
     "output_type": "execute_result"
    }
   ],
   "source": [
    "ord_times = orders[['index','order_id','client_id','date_created']]\n",
    "ord_times.head()"
   ]
  },
  {
   "cell_type": "code",
   "execution_count": 47,
   "metadata": {
    "collapsed": true
   },
   "outputs": [],
   "source": [
    "ord_times['hour'] = ord_times['date_created'].dt.hour"
   ]
  },
  {
   "cell_type": "markdown",
   "metadata": {},
   "source": [
    "#### SQL\n",
    "SELECT client_id, HOUR(date_created) FROM orders  "
   ]
  },
  {
   "cell_type": "code",
   "execution_count": 48,
   "metadata": {},
   "outputs": [
    {
     "data": {
      "text/html": [
       "<div>\n",
       "<style>\n",
       "    .dataframe thead tr:only-child th {\n",
       "        text-align: right;\n",
       "    }\n",
       "\n",
       "    .dataframe thead th {\n",
       "        text-align: left;\n",
       "    }\n",
       "\n",
       "    .dataframe tbody tr th {\n",
       "        vertical-align: top;\n",
       "    }\n",
       "</style>\n",
       "<table border=\"1\" class=\"dataframe\">\n",
       "  <thead>\n",
       "    <tr style=\"text-align: right;\">\n",
       "      <th></th>\n",
       "      <th>index</th>\n",
       "      <th>order_id</th>\n",
       "      <th>client_id</th>\n",
       "      <th>date_created</th>\n",
       "      <th>hour</th>\n",
       "    </tr>\n",
       "  </thead>\n",
       "  <tbody>\n",
       "    <tr>\n",
       "      <th>0</th>\n",
       "      <td>1</td>\n",
       "      <td>10</td>\n",
       "      <td>10871</td>\n",
       "      <td>2015-11-18 14:57:05</td>\n",
       "      <td>14</td>\n",
       "    </tr>\n",
       "    <tr>\n",
       "      <th>1</th>\n",
       "      <td>2</td>\n",
       "      <td>11</td>\n",
       "      <td>10406</td>\n",
       "      <td>2015-11-19 09:31:51</td>\n",
       "      <td>9</td>\n",
       "    </tr>\n",
       "    <tr>\n",
       "      <th>2</th>\n",
       "      <td>3</td>\n",
       "      <td>117796</td>\n",
       "      <td>692412</td>\n",
       "      <td>2018-10-05 12:53:57</td>\n",
       "      <td>12</td>\n",
       "    </tr>\n",
       "    <tr>\n",
       "      <th>3</th>\n",
       "      <td>4</td>\n",
       "      <td>117797</td>\n",
       "      <td>1886815</td>\n",
       "      <td>2018-10-05 13:00:13</td>\n",
       "      <td>13</td>\n",
       "    </tr>\n",
       "    <tr>\n",
       "      <th>4</th>\n",
       "      <td>5</td>\n",
       "      <td>117798</td>\n",
       "      <td>1675612</td>\n",
       "      <td>2018-10-05 13:01:47</td>\n",
       "      <td>13</td>\n",
       "    </tr>\n",
       "  </tbody>\n",
       "</table>\n",
       "</div>"
      ],
      "text/plain": [
       "   index  order_id  client_id        date_created  hour\n",
       "0      1        10      10871 2015-11-18 14:57:05    14\n",
       "1      2        11      10406 2015-11-19 09:31:51     9\n",
       "2      3    117796     692412 2018-10-05 12:53:57    12\n",
       "3      4    117797    1886815 2018-10-05 13:00:13    13\n",
       "4      5    117798    1675612 2018-10-05 13:01:47    13"
      ]
     },
     "execution_count": 48,
     "metadata": {},
     "output_type": "execute_result"
    }
   ],
   "source": [
    "ord_times.head()"
   ]
  },
  {
   "cell_type": "code",
   "execution_count": 49,
   "metadata": {
    "collapsed": true
   },
   "outputs": [],
   "source": [
    "conditions = [\n",
    "    (ord_times['hour'] >= 6) & (ord_times['hour'] < 11),\n",
    "     (ord_times['hour'] >= 11) & (ord_times['hour'] <18),\n",
    "    (ord_times['hour'] >= 18) & (ord_times['hour'] < 6)]\n",
    "choices = ['morning', 'afternoon', 'evening/night']\n",
    "ord_times['times_of_day'] = np.select(conditions, choices, default=\"evening/night\")"
   ]
  },
  {
   "cell_type": "code",
   "execution_count": 50,
   "metadata": {},
   "outputs": [
    {
     "data": {
      "text/html": [
       "<div>\n",
       "<style>\n",
       "    .dataframe thead tr:only-child th {\n",
       "        text-align: right;\n",
       "    }\n",
       "\n",
       "    .dataframe thead th {\n",
       "        text-align: left;\n",
       "    }\n",
       "\n",
       "    .dataframe tbody tr th {\n",
       "        vertical-align: top;\n",
       "    }\n",
       "</style>\n",
       "<table border=\"1\" class=\"dataframe\">\n",
       "  <thead>\n",
       "    <tr style=\"text-align: right;\">\n",
       "      <th></th>\n",
       "      <th>index</th>\n",
       "      <th>order_id</th>\n",
       "      <th>client_id</th>\n",
       "      <th>date_created</th>\n",
       "      <th>hour</th>\n",
       "      <th>times_of_day</th>\n",
       "    </tr>\n",
       "  </thead>\n",
       "  <tbody>\n",
       "    <tr>\n",
       "      <th>0</th>\n",
       "      <td>1</td>\n",
       "      <td>10</td>\n",
       "      <td>10871</td>\n",
       "      <td>2015-11-18 14:57:05</td>\n",
       "      <td>14</td>\n",
       "      <td>afternoon</td>\n",
       "    </tr>\n",
       "    <tr>\n",
       "      <th>1</th>\n",
       "      <td>2</td>\n",
       "      <td>11</td>\n",
       "      <td>10406</td>\n",
       "      <td>2015-11-19 09:31:51</td>\n",
       "      <td>9</td>\n",
       "      <td>morning</td>\n",
       "    </tr>\n",
       "    <tr>\n",
       "      <th>2</th>\n",
       "      <td>3</td>\n",
       "      <td>117796</td>\n",
       "      <td>692412</td>\n",
       "      <td>2018-10-05 12:53:57</td>\n",
       "      <td>12</td>\n",
       "      <td>afternoon</td>\n",
       "    </tr>\n",
       "    <tr>\n",
       "      <th>3</th>\n",
       "      <td>4</td>\n",
       "      <td>117797</td>\n",
       "      <td>1886815</td>\n",
       "      <td>2018-10-05 13:00:13</td>\n",
       "      <td>13</td>\n",
       "      <td>afternoon</td>\n",
       "    </tr>\n",
       "    <tr>\n",
       "      <th>4</th>\n",
       "      <td>5</td>\n",
       "      <td>117798</td>\n",
       "      <td>1675612</td>\n",
       "      <td>2018-10-05 13:01:47</td>\n",
       "      <td>13</td>\n",
       "      <td>afternoon</td>\n",
       "    </tr>\n",
       "  </tbody>\n",
       "</table>\n",
       "</div>"
      ],
      "text/plain": [
       "   index  order_id  client_id        date_created  hour times_of_day\n",
       "0      1        10      10871 2015-11-18 14:57:05    14    afternoon\n",
       "1      2        11      10406 2015-11-19 09:31:51     9      morning\n",
       "2      3    117796     692412 2018-10-05 12:53:57    12    afternoon\n",
       "3      4    117797    1886815 2018-10-05 13:00:13    13    afternoon\n",
       "4      5    117798    1675612 2018-10-05 13:01:47    13    afternoon"
      ]
     },
     "execution_count": 50,
     "metadata": {},
     "output_type": "execute_result"
    }
   ],
   "source": [
    "ord_times.head()"
   ]
  },
  {
   "cell_type": "code",
   "execution_count": 51,
   "metadata": {},
   "outputs": [
    {
     "data": {
      "text/plain": [
       "client_id  times_of_day \n",
       "10406      afternoon        14\n",
       "           evening/night     2\n",
       "           morning          15\n",
       "10871      afternoon         2\n",
       "           morning           4\n",
       "dtype: int64"
      ]
     },
     "execution_count": 51,
     "metadata": {},
     "output_type": "execute_result"
    }
   ],
   "source": [
    "times = ord_times.groupby(['client_id', 'times_of_day']).size()\n",
    "times.head()"
   ]
  },
  {
   "cell_type": "code",
   "execution_count": 102,
   "metadata": {},
   "outputs": [
    {
     "data": {
      "text/plain": [
       "{10871: {'afternoon': 2, 'morning': 4}, 11234: {'afternoon': 3}}"
      ]
     },
     "execution_count": 102,
     "metadata": {},
     "output_type": "execute_result"
    }
   ],
   "source": [
    "buy_times = {}\n",
    "for ind, val in times.items():\n",
    "    client_id = ind[0]\n",
    "    weekday = ind[1]\n",
    "    if client_id in buy_times:\n",
    "        buy_times[client_id][weekday] = val\n",
    "    else:\n",
    "        buy_times[client_id] = {weekday : val}\n",
    "buy_times;\n",
    "{x:buy_times[x] for x in [10871, 11234]}"
   ]
  },
  {
   "cell_type": "code",
   "execution_count": null,
   "metadata": {
    "collapsed": true
   },
   "outputs": [],
   "source": []
  },
  {
   "cell_type": "markdown",
   "metadata": {},
   "source": [
    "### Кол-во товаров купленные клиентом вообще"
   ]
  },
  {
   "cell_type": "markdown",
   "metadata": {},
   "source": [
    "#### SQL\n",
    "SELECT client_id, SUM(item_cnt) FROM order_items  \n",
    "GROUP BY client_id"
   ]
  },
  {
   "cell_type": "code",
   "execution_count": 105,
   "metadata": {},
   "outputs": [
    {
     "data": {
      "text/plain": [
       "{120340: 3, 213811: 15}"
      ]
     },
     "execution_count": 105,
     "metadata": {},
     "output_type": "execute_result"
    }
   ],
   "source": [
    "tmp = order_items[['client_id', 'order_id', 'item_cnt']]\n",
    "tmp = tmp.groupby(['client_id', 'item_cnt']).size()\n",
    "client_item_cnt = {}\n",
    "for client,cnt in tmp.items():\n",
    "    if client[0] in client_item_cnt:\n",
    "        client_item_cnt[client[0]] += client[1]*cnt\n",
    "    else:\n",
    "        client_item_cnt[client[0]] = client[1]*cnt\n",
    "\n",
    "client_item_cnt;\n",
    "{x:client_item_cnt[x] for x in [120340, 213811]}"
   ]
  },
  {
   "cell_type": "code",
   "execution_count": null,
   "metadata": {
    "collapsed": true
   },
   "outputs": [],
   "source": []
  },
  {
   "cell_type": "markdown",
   "metadata": {},
   "source": [
    "### Товары"
   ]
  },
  {
   "cell_type": "code",
   "execution_count": 54,
   "metadata": {},
   "outputs": [
    {
     "data": {
      "text/html": [
       "<div>\n",
       "<style>\n",
       "    .dataframe thead tr:only-child th {\n",
       "        text-align: right;\n",
       "    }\n",
       "\n",
       "    .dataframe thead th {\n",
       "        text-align: left;\n",
       "    }\n",
       "\n",
       "    .dataframe tbody tr th {\n",
       "        vertical-align: top;\n",
       "    }\n",
       "</style>\n",
       "<table border=\"1\" class=\"dataframe\">\n",
       "  <thead>\n",
       "    <tr style=\"text-align: right;\">\n",
       "      <th></th>\n",
       "      <th>client_id</th>\n",
       "      <th>item_id</th>\n",
       "      <th>item_cnt</th>\n",
       "    </tr>\n",
       "  </thead>\n",
       "  <tbody>\n",
       "    <tr>\n",
       "      <th>10044</th>\n",
       "      <td>267251</td>\n",
       "      <td>04a5cb4b-da08-aa0a-0153-a9d681ae423f</td>\n",
       "      <td>2</td>\n",
       "    </tr>\n",
       "    <tr>\n",
       "      <th>10045</th>\n",
       "      <td>267251</td>\n",
       "      <td>58e38e11-2959-4a86-a382-53ac6c923830</td>\n",
       "      <td>2</td>\n",
       "    </tr>\n",
       "    <tr>\n",
       "      <th>11004</th>\n",
       "      <td>267251</td>\n",
       "      <td>04a5cb4b-da08-aa0a-0153-a9d681ae41fd</td>\n",
       "      <td>1</td>\n",
       "    </tr>\n",
       "    <tr>\n",
       "      <th>11005</th>\n",
       "      <td>267251</td>\n",
       "      <td>04a5cb4b-da08-aa0a-0153-a9d681ae423f</td>\n",
       "      <td>1</td>\n",
       "    </tr>\n",
       "    <tr>\n",
       "      <th>48</th>\n",
       "      <td>267251</td>\n",
       "      <td>04a5cb4b-da08-aa0a-0153-a9d681ae4227</td>\n",
       "      <td>2</td>\n",
       "    </tr>\n",
       "    <tr>\n",
       "      <th>49</th>\n",
       "      <td>267251</td>\n",
       "      <td>58e38e11-2959-4a86-a382-53ac6c923830</td>\n",
       "      <td>2</td>\n",
       "    </tr>\n",
       "    <tr>\n",
       "      <th>12402</th>\n",
       "      <td>267251</td>\n",
       "      <td>04a5cb4b-da08-aa0a-0153-a9d681ae41fd</td>\n",
       "      <td>1</td>\n",
       "    </tr>\n",
       "    <tr>\n",
       "      <th>10885</th>\n",
       "      <td>267251</td>\n",
       "      <td>04a5cb4b-da08-aa0a-0153-a9d681ae41fd</td>\n",
       "      <td>1</td>\n",
       "    </tr>\n",
       "  </tbody>\n",
       "</table>\n",
       "</div>"
      ],
      "text/plain": [
       "       client_id                               item_id  item_cnt\n",
       "10044     267251  04a5cb4b-da08-aa0a-0153-a9d681ae423f         2\n",
       "10045     267251  58e38e11-2959-4a86-a382-53ac6c923830         2\n",
       "11004     267251  04a5cb4b-da08-aa0a-0153-a9d681ae41fd         1\n",
       "11005     267251  04a5cb4b-da08-aa0a-0153-a9d681ae423f         1\n",
       "48        267251  04a5cb4b-da08-aa0a-0153-a9d681ae4227         2\n",
       "49        267251  58e38e11-2959-4a86-a382-53ac6c923830         2\n",
       "12402     267251  04a5cb4b-da08-aa0a-0153-a9d681ae41fd         1\n",
       "10885     267251  04a5cb4b-da08-aa0a-0153-a9d681ae41fd         1"
      ]
     },
     "execution_count": 54,
     "metadata": {},
     "output_type": "execute_result"
    }
   ],
   "source": [
    "a = order_items[['client_id', 'item_id', 'item_cnt']]\n",
    "a[a['client_id'] == 267251]"
   ]
  },
  {
   "cell_type": "code",
   "execution_count": 55,
   "metadata": {
    "scrolled": true
   },
   "outputs": [
    {
     "data": {
      "text/plain": [
       "04a5cb4b-da08-aa0a-0153-a9d681ae3f38    36\n",
       "6574506961272832                        32\n",
       "5720147234914304                        32\n",
       "d7f9378f-8a90-4e58-8663-f63ce0115acd    27\n",
       "04a5cb4b-da08-aa0a-0153-a9d681ae3f43    23\n",
       "5755685136498688                        23\n",
       "04a5cb4b-da08-aa0a-0153-a9d681ae3f03    22\n",
       "4819823842295808                        21\n",
       "04a5cb4b-da08-aa0a-0153-a9d681ae3f46    17\n",
       "5644406560391168                        14\n",
       "Name: parent_cat_id, dtype: int64"
      ]
     },
     "execution_count": 55,
     "metadata": {},
     "output_type": "execute_result"
    }
   ],
   "source": [
    "item_cat = items[['item_id', 'cat_id']]\n",
    "cat_par = cats[['cat_id', 'parent_cat_id']]\n",
    "merge_items = item_cat.join(cat_par.set_index('cat_id'), on='cat_id')\n",
    "merge_items['parent_cat_id'].value_counts()"
   ]
  },
  {
   "cell_type": "markdown",
   "metadata": {},
   "source": [
    "#### SQL\n",
    "SELECT oi.client_id, c.parent_cat_id, SUM(oi.item_cnt) FROM order_items AS oi, items AS i, cats AS c  \n",
    "WHERE oi.item_id = i.item_id AND i.cat_id = c.cat_id  \n",
    "GROUP BY oi.client_id, c.parent_cat_id  "
   ]
  },
  {
   "cell_type": "code",
   "execution_count": 108,
   "metadata": {},
   "outputs": [
    {
     "name": "stderr",
     "output_type": "stream",
     "text": [
      "C:\\Users\\krenovut\\Anaconda3\\lib\\site-packages\\ipykernel_launcher.py:2: SettingWithCopyWarning: \n",
      "A value is trying to be set on a copy of a slice from a DataFrame.\n",
      "Try using .loc[row_indexer,col_indexer] = value instead\n",
      "\n",
      "See the caveats in the documentation: http://pandas.pydata.org/pandas-docs/stable/indexing.html#indexing-view-versus-copy\n",
      "  \n"
     ]
    },
    {
     "data": {
      "text/plain": [
       "{223648: {'04a5cb4b-da08-aa0a-0153-a9d681ae3f03': 1,\n",
       "  '5720147234914304': 1,\n",
       "  'd7f9378f-8a90-4e58-8663-f63ce0115acd': 1},\n",
       " 267251: {'04a5cb4b-da08-aa0a-0153-a9d681ae3f43': 2,\n",
       "  'd7f9378f-8a90-4e58-8663-f63ce0115acd': 2}}"
      ]
     },
     "execution_count": 108,
     "metadata": {},
     "output_type": "execute_result"
    }
   ],
   "source": [
    "tmp = order_items[['client_id', 'item_id', 'item_cnt']]\n",
    "tmp['item_id'] = merge_items['parent_cat_id']\n",
    "tmp = tmp.groupby(['client_id', 'item_id', 'item_cnt']).size()\n",
    "# tmp\n",
    "\n",
    "client_item = {}\n",
    "for client,cnt in tmp.items():\n",
    "    if client[0] in client_item: \n",
    "        client_item[client[0]][client[1]] = client[2]*cnt\n",
    "    else:\n",
    "        client_item[client[0]] = {client[1] : client[2]*cnt}\n",
    "        \n",
    "client_item;\n",
    "{x:client_item[x] for x in [223648, 267251]}"
   ]
  },
  {
   "cell_type": "code",
   "execution_count": null,
   "metadata": {
    "collapsed": true
   },
   "outputs": [],
   "source": []
  },
  {
   "cell_type": "code",
   "execution_count": null,
   "metadata": {
    "collapsed": true
   },
   "outputs": [],
   "source": []
  },
  {
   "cell_type": "markdown",
   "metadata": {},
   "source": [
    "## Немного рефакторинга, приведем все в функции"
   ]
  },
  {
   "cell_type": "code",
   "execution_count": null,
   "metadata": {
    "collapsed": true
   },
   "outputs": [],
   "source": []
  },
  {
   "cell_type": "code",
   "execution_count": 57,
   "metadata": {
    "collapsed": true
   },
   "outputs": [],
   "source": [
    "def prepare_orders(orders):\n",
    "    ''' на вход получаем orders\n",
    "        на выходе словарь {client_id : [время заказов]}\n",
    "    '''\n",
    "    sort_orders = orders.sort_values(by=['date_created'])\n",
    "    client_info = {}\n",
    "\n",
    "    for index, row in sort_orders.iterrows():\n",
    "        tmp = []\n",
    "        if row['client_id'] in client_info:\n",
    "            client_info[row['client_id']].append(row['date_created'])\n",
    "        else:\n",
    "            tmp.append(row['date_created'])\n",
    "            client_info[row['client_id']] = tmp\n",
    "    return client_info\n",
    "client_orders_time = prepare_orders(orders)"
   ]
  },
  {
   "cell_type": "code",
   "execution_count": 58,
   "metadata": {
    "collapsed": true
   },
   "outputs": [],
   "source": [
    "# Дата / число дней с первого заказа\n",
    "def get_days_from_first_order(client_orders_time):\n",
    "    right_now = datetime.now()\n",
    "    time_from_first_order = {}\n",
    "    for client in client_orders_time:\n",
    "        time_from_first_order[client] = (client_orders_time[client][0] - right_now).days\n",
    "    return time_from_first_order\n",
    "time_from_first_order = get_days_from_first_order(client_orders_time)"
   ]
  },
  {
   "cell_type": "code",
   "execution_count": 114,
   "metadata": {},
   "outputs": [],
   "source": [
    "time_from_first_order;"
   ]
  },
  {
   "cell_type": "code",
   "execution_count": 115,
   "metadata": {
    "collapsed": true
   },
   "outputs": [],
   "source": [
    "# Дата / число дней с последнего заказа\n",
    "def get_days_from_last_order(client_orders_time):\n",
    "    right_now = datetime.now()\n",
    "    time_from_last_order = {}\n",
    "    for client in client_orders_time:\n",
    "        time_from_last_order[client] = (client_orders_time[client][-1] - right_now).days\n",
    "    return time_from_last_order\n",
    "time_from_last_order = get_days_from_last_order(client_orders_time)"
   ]
  },
  {
   "cell_type": "code",
   "execution_count": 116,
   "metadata": {},
   "outputs": [],
   "source": [
    "time_from_last_order;"
   ]
  },
  {
   "cell_type": "code",
   "execution_count": 117,
   "metadata": {
    "collapsed": true
   },
   "outputs": [],
   "source": [
    "# Среднее число дней между заказами\n",
    "def get_mean_time(client_orders_time):\n",
    "    mean_time_between_orders = {}\n",
    "    for client in client_orders_time:\n",
    "        timestamps = client_orders_time[client]\n",
    "        if len(timestamps) == 1:\n",
    "            mean_time_between_orders[client] = 0\n",
    "            continue\n",
    "        cnt = 0\n",
    "        last_date = timestamps[0] \n",
    "        time_between = 0\n",
    "        for time in timestamps[1:]:\n",
    "            diff = time - last_date\n",
    "            time_between += diff.days\n",
    "            cnt += 1\n",
    "        mean_time_between_orders[client] = time_between/cnt\n",
    "    return mean_time_between_orders\n",
    "mean_time_between_orders = get_mean_time(client_orders_time)"
   ]
  },
  {
   "cell_type": "code",
   "execution_count": 118,
   "metadata": {},
   "outputs": [],
   "source": [
    "mean_time_between_orders;"
   ]
  },
  {
   "cell_type": "code",
   "execution_count": null,
   "metadata": {
    "collapsed": true
   },
   "outputs": [],
   "source": []
  },
  {
   "cell_type": "code",
   "execution_count": 64,
   "metadata": {
    "collapsed": true
   },
   "outputs": [],
   "source": [
    "# средняя стоимость заказа\n",
    "def get_all_and_mean_price(orders):\n",
    "    client_and_sum = orders[['client_id', 'total_sum']]\n",
    "    client_and_sum = client_and_sum.set_index('client_id')\n",
    "    grouped_client_sum = client_and_sum.groupby('client_id').sum()\n",
    "    grouped_client_count = client_and_sum.groupby('client_id').count()\n",
    "    grouped_client = pd.merge(left=grouped_client_sum, right=grouped_client_count, how='outer', left_index=True, right_index=True)\n",
    "    grouped_client.columns = ['total_sum', 'total_count']\n",
    "    grouped_client['mean_order'] = (grouped_client.total_sum)/(grouped_client.total_count)\n",
    "    client_total_order = dict(zip(grouped_client.index, grouped_client['total_sum'].values))\n",
    "    client_mean_order = dict(zip(grouped_client.index, grouped_client['mean_order'].values))\n",
    "    return client_total_order, client_mean_order\n",
    "# grouped_client = get_mean_price(orders)\n",
    "# grouped_client.head(10)\n",
    "client_total_order, client_mean_order = get_all_and_mean_price(orders)\n"
   ]
  },
  {
   "cell_type": "code",
   "execution_count": 109,
   "metadata": {},
   "outputs": [],
   "source": [
    "client_total_order, client_mean_order;"
   ]
  },
  {
   "cell_type": "code",
   "execution_count": 66,
   "metadata": {
    "collapsed": true
   },
   "outputs": [],
   "source": [
    "# Число заказов по дням недели\n",
    "def weeks_between(start_date, end_date):\n",
    "    weeks = rrule.rrule(rrule.WEEKLY, dtstart=start_date, until=end_date)\n",
    "    return weeks.count()\n",
    "\n",
    "def get_number_of_orders_per_day_of_week(orders, client_orders_time):\n",
    "    ord_weekdays = orders[['index','order_id','client_id','date_created']]\n",
    "    ord_weekdays['weekday'] = ord_weekdays['date_created'].dt.dayofweek\n",
    "    ord_weekdays['days_name'] = ord_weekdays[['date_created']].apply(lambda x: datetime.strftime(x['date_created'], '%A'), axis=1)\n",
    "    group = ord_weekdays[['order_id', 'client_id', 'date_created', 'weekday', 'days_name']].groupby(['client_id', 'days_name']).size()\n",
    "    buy_days = {}\n",
    "    for ind, val in group.items():\n",
    "        client_id = ind[0]\n",
    "        orders_time = client_orders_time[client_id]\n",
    "        number_of_weeks_between = 1\n",
    "        if len(orders_time) == 1:\n",
    "            number_of_weeks_between = 1\n",
    "        else:\n",
    "            number_of_weeks_between = weeks_between(orders_time[0], orders_time[-1])\n",
    "\n",
    "        weekday = ind[1]\n",
    "        if client_id in buy_days:\n",
    "            val = val/number_of_weeks_between\n",
    "            buy_days[client_id][weekday] = val\n",
    "        else:\n",
    "            val = val/number_of_weeks_between\n",
    "            buy_days[client_id] = {weekday : val}\n",
    "    return buy_days\n",
    "buy_days = get_number_of_orders_per_day_of_week(orders, client_orders_time)"
   ]
  },
  {
   "cell_type": "code",
   "execution_count": 110,
   "metadata": {},
   "outputs": [],
   "source": [
    "buy_days;"
   ]
  },
  {
   "cell_type": "code",
   "execution_count": 68,
   "metadata": {
    "collapsed": true
   },
   "outputs": [],
   "source": [
    "# Заказы по времени суток\n",
    "# Разделил на утро (с 6 до 11), день (с 11 до 18) и вечер/ночь (с 18 до 6)\n",
    "def get_number_of_orders_by_time_of_day(orders):\n",
    "    ord_times = orders[['index','order_id','client_id','date_created']]\n",
    "    ord_times['hour'] = ord_times['date_created'].dt.hour\n",
    "    conditions = [\n",
    "        (ord_times['hour'] >= 6) & (ord_times['hour'] < 11),\n",
    "        (ord_times['hour'] >= 11) & (ord_times['hour'] <18),\n",
    "        (ord_times['hour'] >= 18) & (ord_times['hour'] < 6)\n",
    "    ]\n",
    "    choices = ['morning', 'afternoon', 'evening/night']\n",
    "    ord_times['times_of_day'] = np.select(conditions, choices, default=\"evening/night\")\n",
    "    ord_times = ord_times.groupby(['client_id', 'times_of_day']).size()\n",
    "    buy_times = {}\n",
    "    for ind, val in ord_times.items():\n",
    "        client_id = ind[0]\n",
    "        weekday = ind[1]\n",
    "        if client_id in buy_times:\n",
    "            buy_times[client_id][weekday] = val\n",
    "        else:\n",
    "            buy_times[client_id] = {weekday : val}\n",
    "    return buy_times\n",
    "buy_times = get_number_of_orders_by_time_of_day(orders)"
   ]
  },
  {
   "cell_type": "code",
   "execution_count": 111,
   "metadata": {},
   "outputs": [],
   "source": [
    "buy_times;"
   ]
  },
  {
   "cell_type": "code",
   "execution_count": 112,
   "metadata": {},
   "outputs": [],
   "source": [
    "def get_number_of_items_purchased_by_the_client(order_items):\n",
    "    tmp = order_items[['client_id', 'order_id', 'item_cnt']]\n",
    "    tmp = tmp.groupby(['client_id', 'item_cnt']).size()\n",
    "    client_item_cnt = {}\n",
    "    for client,cnt in tmp.items():\n",
    "        if client[0] in client_item_cnt:\n",
    "            client_item_cnt[client[0]] += client[1]*cnt\n",
    "        else:\n",
    "            client_item_cnt[client[0]] = client[1]*cnt\n",
    "    return client_item_cnt\n",
    "\n",
    "client_item_cnt;"
   ]
  },
  {
   "cell_type": "code",
   "execution_count": 71,
   "metadata": {
    "collapsed": true
   },
   "outputs": [],
   "source": [
    "def prepare_items(items, cats, order_items):\n",
    "    \n",
    "    item_cat = items[['item_id', 'cat_id']]\n",
    "    cat_par = cats[['cat_id', 'parent_cat_id']]\n",
    "    merge_items = item_cat.join(cat_par.set_index('cat_id'), on='cat_id')\n",
    "\n",
    "    tmp = order_items[['client_id', 'item_id', 'item_cnt']]\n",
    "    tmp['item_id'] = merge_items['parent_cat_id']\n",
    "    tmp = tmp.groupby(['client_id', 'item_id', 'item_cnt']).size()\n",
    "    # tmp\n",
    "\n",
    "    client_item = {}\n",
    "    for client,cnt in tmp.items():\n",
    "        if client[0] in client_item: \n",
    "            client_item[client[0]][client[1]] = client[2]*cnt\n",
    "        else:\n",
    "            client_item[client[0]] = {client[1] : client[2]*cnt}\n",
    "    return client_item\n",
    "        "
   ]
  },
  {
   "cell_type": "code",
   "execution_count": 113,
   "metadata": {},
   "outputs": [
    {
     "name": "stderr",
     "output_type": "stream",
     "text": [
      "C:\\Users\\krenovut\\Anaconda3\\lib\\site-packages\\ipykernel_launcher.py:8: SettingWithCopyWarning: \n",
      "A value is trying to be set on a copy of a slice from a DataFrame.\n",
      "Try using .loc[row_indexer,col_indexer] = value instead\n",
      "\n",
      "See the caveats in the documentation: http://pandas.pydata.org/pandas-docs/stable/indexing.html#indexing-view-versus-copy\n",
      "  \n"
     ]
    }
   ],
   "source": [
    "client_item = prepare_items(items, cats, order_items)\n",
    "client_item;"
   ]
  },
  {
   "cell_type": "code",
   "execution_count": null,
   "metadata": {
    "collapsed": true
   },
   "outputs": [],
   "source": []
  },
  {
   "cell_type": "markdown",
   "metadata": {},
   "source": [
    "## Создатим таблицу по клиентам со всеми данными"
   ]
  },
  {
   "cell_type": "code",
   "execution_count": 73,
   "metadata": {
    "collapsed": true
   },
   "outputs": [],
   "source": [
    "from collections import defaultdict\n",
    "dd = defaultdict(list)\n",
    "for d in time_from_first_order,time_from_last_order, mean_time_between_orders, client_total_order, client_mean_order, client_item_cnt:\n",
    "    for key, value in iter(d.items()):\n",
    "        dd[key].append(value)"
   ]
  },
  {
   "cell_type": "code",
   "execution_count": 74,
   "metadata": {},
   "outputs": [
    {
     "data": {
      "text/plain": [
       "[-879, -224, 207.78947368421052, 2854.5, 142.72499999999999, 3]"
      ]
     },
     "execution_count": 74,
     "metadata": {},
     "output_type": "execute_result"
    }
   ],
   "source": [
    "dd[120340]"
   ]
  },
  {
   "cell_type": "code",
   "execution_count": 75,
   "metadata": {
    "collapsed": true
   },
   "outputs": [],
   "source": [
    "df = pd.DataFrame.from_dict(dd, orient='index')\n",
    "df.columns = ['from first', 'from last', 'mean time', 'total sum', 'mean sum', 'cnt_items']"
   ]
  },
  {
   "cell_type": "code",
   "execution_count": 76,
   "metadata": {},
   "outputs": [
    {
     "data": {
      "text/html": [
       "<div>\n",
       "<style>\n",
       "    .dataframe thead tr:only-child th {\n",
       "        text-align: right;\n",
       "    }\n",
       "\n",
       "    .dataframe thead th {\n",
       "        text-align: left;\n",
       "    }\n",
       "\n",
       "    .dataframe tbody tr th {\n",
       "        vertical-align: top;\n",
       "    }\n",
       "</style>\n",
       "<table border=\"1\" class=\"dataframe\">\n",
       "  <thead>\n",
       "    <tr style=\"text-align: right;\">\n",
       "      <th></th>\n",
       "      <th>from first</th>\n",
       "      <th>from last</th>\n",
       "      <th>mean time</th>\n",
       "      <th>total sum</th>\n",
       "      <th>mean sum</th>\n",
       "      <th>cnt_items</th>\n",
       "    </tr>\n",
       "  </thead>\n",
       "  <tbody>\n",
       "    <tr>\n",
       "      <th>10871</th>\n",
       "      <td>-1285</td>\n",
       "      <td>-1253</td>\n",
       "      <td>10.600000</td>\n",
       "      <td>1145.0</td>\n",
       "      <td>190.833333</td>\n",
       "      <td>NaN</td>\n",
       "    </tr>\n",
       "    <tr>\n",
       "      <th>10406</th>\n",
       "      <td>-1283</td>\n",
       "      <td>-1089</td>\n",
       "      <td>62.766667</td>\n",
       "      <td>10075.0</td>\n",
       "      <td>325.000000</td>\n",
       "      <td>NaN</td>\n",
       "    </tr>\n",
       "    <tr>\n",
       "      <th>11234</th>\n",
       "      <td>-1281</td>\n",
       "      <td>-1281</td>\n",
       "      <td>0.000000</td>\n",
       "      <td>1135.0</td>\n",
       "      <td>378.333333</td>\n",
       "      <td>NaN</td>\n",
       "    </tr>\n",
       "    <tr>\n",
       "      <th>13768</th>\n",
       "      <td>-1264</td>\n",
       "      <td>-1264</td>\n",
       "      <td>0.000000</td>\n",
       "      <td>60.0</td>\n",
       "      <td>60.000000</td>\n",
       "      <td>NaN</td>\n",
       "    </tr>\n",
       "    <tr>\n",
       "      <th>14361</th>\n",
       "      <td>-1263</td>\n",
       "      <td>-1259</td>\n",
       "      <td>1.888889</td>\n",
       "      <td>1490.0</td>\n",
       "      <td>149.000000</td>\n",
       "      <td>NaN</td>\n",
       "    </tr>\n",
       "  </tbody>\n",
       "</table>\n",
       "</div>"
      ],
      "text/plain": [
       "       from first  from last  mean time  total sum    mean sum  cnt_items\n",
       "10871       -1285      -1253  10.600000     1145.0  190.833333        NaN\n",
       "10406       -1283      -1089  62.766667    10075.0  325.000000        NaN\n",
       "11234       -1281      -1281   0.000000     1135.0  378.333333        NaN\n",
       "13768       -1264      -1264   0.000000       60.0   60.000000        NaN\n",
       "14361       -1263      -1259   1.888889     1490.0  149.000000        NaN"
      ]
     },
     "execution_count": 76,
     "metadata": {},
     "output_type": "execute_result"
    }
   ],
   "source": [
    "df.head()"
   ]
  },
  {
   "cell_type": "code",
   "execution_count": 77,
   "metadata": {},
   "outputs": [
    {
     "data": {
      "text/html": [
       "<div>\n",
       "<style>\n",
       "    .dataframe thead tr:only-child th {\n",
       "        text-align: right;\n",
       "    }\n",
       "\n",
       "    .dataframe thead th {\n",
       "        text-align: left;\n",
       "    }\n",
       "\n",
       "    .dataframe tbody tr th {\n",
       "        vertical-align: top;\n",
       "    }\n",
       "</style>\n",
       "<table border=\"1\" class=\"dataframe\">\n",
       "  <thead>\n",
       "    <tr style=\"text-align: right;\">\n",
       "      <th></th>\n",
       "      <th>Friday</th>\n",
       "      <th>Monday</th>\n",
       "      <th>Saturday</th>\n",
       "      <th>Sunday</th>\n",
       "      <th>Thursday</th>\n",
       "      <th>Tuesday</th>\n",
       "      <th>Wednesday</th>\n",
       "    </tr>\n",
       "  </thead>\n",
       "  <tbody>\n",
       "    <tr>\n",
       "      <th>10406</th>\n",
       "      <td>0.107143</td>\n",
       "      <td>0.178571</td>\n",
       "      <td>0.035714</td>\n",
       "      <td>0.107143</td>\n",
       "      <td>0.250000</td>\n",
       "      <td>0.250000</td>\n",
       "      <td>0.178571</td>\n",
       "    </tr>\n",
       "    <tr>\n",
       "      <th>10871</th>\n",
       "      <td>0.200000</td>\n",
       "      <td>0.200000</td>\n",
       "      <td>0.000000</td>\n",
       "      <td>0.200000</td>\n",
       "      <td>0.000000</td>\n",
       "      <td>0.400000</td>\n",
       "      <td>0.200000</td>\n",
       "    </tr>\n",
       "    <tr>\n",
       "      <th>11229</th>\n",
       "      <td>0.058824</td>\n",
       "      <td>0.098039</td>\n",
       "      <td>0.000000</td>\n",
       "      <td>0.078431</td>\n",
       "      <td>0.058824</td>\n",
       "      <td>0.156863</td>\n",
       "      <td>0.039216</td>\n",
       "    </tr>\n",
       "    <tr>\n",
       "      <th>11234</th>\n",
       "      <td>0.000000</td>\n",
       "      <td>0.000000</td>\n",
       "      <td>0.000000</td>\n",
       "      <td>0.000000</td>\n",
       "      <td>3.000000</td>\n",
       "      <td>0.000000</td>\n",
       "      <td>0.000000</td>\n",
       "    </tr>\n",
       "    <tr>\n",
       "      <th>13768</th>\n",
       "      <td>0.000000</td>\n",
       "      <td>1.000000</td>\n",
       "      <td>0.000000</td>\n",
       "      <td>0.000000</td>\n",
       "      <td>0.000000</td>\n",
       "      <td>0.000000</td>\n",
       "      <td>0.000000</td>\n",
       "    </tr>\n",
       "  </tbody>\n",
       "</table>\n",
       "</div>"
      ],
      "text/plain": [
       "         Friday    Monday  Saturday    Sunday  Thursday   Tuesday  Wednesday\n",
       "10406  0.107143  0.178571  0.035714  0.107143  0.250000  0.250000   0.178571\n",
       "10871  0.200000  0.200000  0.000000  0.200000  0.000000  0.400000   0.200000\n",
       "11229  0.058824  0.098039  0.000000  0.078431  0.058824  0.156863   0.039216\n",
       "11234  0.000000  0.000000  0.000000  0.000000  3.000000  0.000000   0.000000\n",
       "13768  0.000000  1.000000  0.000000  0.000000  0.000000  0.000000   0.000000"
      ]
     },
     "execution_count": 77,
     "metadata": {},
     "output_type": "execute_result"
    }
   ],
   "source": [
    "df_days = pd.DataFrame.from_dict( buy_days, orient='index')\n",
    "df_days.fillna(0, inplace=True)\n",
    "df_days.head()"
   ]
  },
  {
   "cell_type": "code",
   "execution_count": 78,
   "metadata": {},
   "outputs": [
    {
     "data": {
      "text/html": [
       "<div>\n",
       "<style>\n",
       "    .dataframe thead tr:only-child th {\n",
       "        text-align: right;\n",
       "    }\n",
       "\n",
       "    .dataframe thead th {\n",
       "        text-align: left;\n",
       "    }\n",
       "\n",
       "    .dataframe tbody tr th {\n",
       "        vertical-align: top;\n",
       "    }\n",
       "</style>\n",
       "<table border=\"1\" class=\"dataframe\">\n",
       "  <thead>\n",
       "    <tr style=\"text-align: right;\">\n",
       "      <th></th>\n",
       "      <th>afternoon</th>\n",
       "      <th>evening/night</th>\n",
       "      <th>morning</th>\n",
       "    </tr>\n",
       "  </thead>\n",
       "  <tbody>\n",
       "    <tr>\n",
       "      <th>10406</th>\n",
       "      <td>14.0</td>\n",
       "      <td>2.0</td>\n",
       "      <td>15.0</td>\n",
       "    </tr>\n",
       "    <tr>\n",
       "      <th>10871</th>\n",
       "      <td>2.0</td>\n",
       "      <td>0.0</td>\n",
       "      <td>4.0</td>\n",
       "    </tr>\n",
       "    <tr>\n",
       "      <th>11229</th>\n",
       "      <td>11.0</td>\n",
       "      <td>8.0</td>\n",
       "      <td>6.0</td>\n",
       "    </tr>\n",
       "    <tr>\n",
       "      <th>11234</th>\n",
       "      <td>3.0</td>\n",
       "      <td>0.0</td>\n",
       "      <td>0.0</td>\n",
       "    </tr>\n",
       "    <tr>\n",
       "      <th>13768</th>\n",
       "      <td>0.0</td>\n",
       "      <td>0.0</td>\n",
       "      <td>1.0</td>\n",
       "    </tr>\n",
       "  </tbody>\n",
       "</table>\n",
       "</div>"
      ],
      "text/plain": [
       "       afternoon  evening/night  morning\n",
       "10406       14.0            2.0     15.0\n",
       "10871        2.0            0.0      4.0\n",
       "11229       11.0            8.0      6.0\n",
       "11234        3.0            0.0      0.0\n",
       "13768        0.0            0.0      1.0"
      ]
     },
     "execution_count": 78,
     "metadata": {},
     "output_type": "execute_result"
    }
   ],
   "source": [
    "df_time = pd.DataFrame.from_dict( buy_times, orient='index')\n",
    "df_time.fillna(0, inplace=True)\n",
    "df_time.head()"
   ]
  },
  {
   "cell_type": "code",
   "execution_count": 79,
   "metadata": {},
   "outputs": [
    {
     "data": {
      "text/html": [
       "<div>\n",
       "<style>\n",
       "    .dataframe thead tr:only-child th {\n",
       "        text-align: right;\n",
       "    }\n",
       "\n",
       "    .dataframe thead th {\n",
       "        text-align: left;\n",
       "    }\n",
       "\n",
       "    .dataframe tbody tr th {\n",
       "        vertical-align: top;\n",
       "    }\n",
       "</style>\n",
       "<table border=\"1\" class=\"dataframe\">\n",
       "  <thead>\n",
       "    <tr style=\"text-align: right;\">\n",
       "      <th></th>\n",
       "      <th>04a5cb4b-da08-aa0a-0153-a9d681ae3f03</th>\n",
       "      <th>5720147234914304</th>\n",
       "      <th>d7f9378f-8a90-4e58-8663-f63ce0115acd</th>\n",
       "      <th>04a5cb4b-da08-aa0a-0153-a9d681ae3f43</th>\n",
       "      <th>04a5cb4b-da08-aa0a-0153-a9d681ae3f38</th>\n",
       "      <th>4819823842295808</th>\n",
       "      <th>5755685136498688</th>\n",
       "      <th>6574506961272832</th>\n",
       "      <th>5644406560391168</th>\n",
       "      <th>04a5cb4b-da08-aa0a-0153-a9d681ae3f46</th>\n",
       "    </tr>\n",
       "  </thead>\n",
       "  <tbody>\n",
       "    <tr>\n",
       "      <th>223648</th>\n",
       "      <td>1.0</td>\n",
       "      <td>1.0</td>\n",
       "      <td>1.0</td>\n",
       "      <td>0.0</td>\n",
       "      <td>0.0</td>\n",
       "      <td>0.0</td>\n",
       "      <td>0.0</td>\n",
       "      <td>0.0</td>\n",
       "      <td>0.0</td>\n",
       "      <td>0.0</td>\n",
       "    </tr>\n",
       "    <tr>\n",
       "      <th>267251</th>\n",
       "      <td>0.0</td>\n",
       "      <td>0.0</td>\n",
       "      <td>2.0</td>\n",
       "      <td>2.0</td>\n",
       "      <td>0.0</td>\n",
       "      <td>0.0</td>\n",
       "      <td>0.0</td>\n",
       "      <td>0.0</td>\n",
       "      <td>0.0</td>\n",
       "      <td>0.0</td>\n",
       "    </tr>\n",
       "    <tr>\n",
       "      <th>267298</th>\n",
       "      <td>0.0</td>\n",
       "      <td>0.0</td>\n",
       "      <td>0.0</td>\n",
       "      <td>2.0</td>\n",
       "      <td>0.0</td>\n",
       "      <td>0.0</td>\n",
       "      <td>0.0</td>\n",
       "      <td>0.0</td>\n",
       "      <td>0.0</td>\n",
       "      <td>0.0</td>\n",
       "    </tr>\n",
       "    <tr>\n",
       "      <th>267347</th>\n",
       "      <td>0.0</td>\n",
       "      <td>1.0</td>\n",
       "      <td>3.0</td>\n",
       "      <td>2.0</td>\n",
       "      <td>1.0</td>\n",
       "      <td>1.0</td>\n",
       "      <td>0.0</td>\n",
       "      <td>0.0</td>\n",
       "      <td>0.0</td>\n",
       "      <td>0.0</td>\n",
       "    </tr>\n",
       "    <tr>\n",
       "      <th>267759</th>\n",
       "      <td>0.0</td>\n",
       "      <td>0.0</td>\n",
       "      <td>0.0</td>\n",
       "      <td>0.0</td>\n",
       "      <td>0.0</td>\n",
       "      <td>0.0</td>\n",
       "      <td>1.0</td>\n",
       "      <td>0.0</td>\n",
       "      <td>0.0</td>\n",
       "      <td>0.0</td>\n",
       "    </tr>\n",
       "  </tbody>\n",
       "</table>\n",
       "</div>"
      ],
      "text/plain": [
       "        04a5cb4b-da08-aa0a-0153-a9d681ae3f03  5720147234914304  \\\n",
       "223648                                   1.0               1.0   \n",
       "267251                                   0.0               0.0   \n",
       "267298                                   0.0               0.0   \n",
       "267347                                   0.0               1.0   \n",
       "267759                                   0.0               0.0   \n",
       "\n",
       "        d7f9378f-8a90-4e58-8663-f63ce0115acd  \\\n",
       "223648                                   1.0   \n",
       "267251                                   2.0   \n",
       "267298                                   0.0   \n",
       "267347                                   3.0   \n",
       "267759                                   0.0   \n",
       "\n",
       "        04a5cb4b-da08-aa0a-0153-a9d681ae3f43  \\\n",
       "223648                                   0.0   \n",
       "267251                                   2.0   \n",
       "267298                                   2.0   \n",
       "267347                                   2.0   \n",
       "267759                                   0.0   \n",
       "\n",
       "        04a5cb4b-da08-aa0a-0153-a9d681ae3f38  4819823842295808  \\\n",
       "223648                                   0.0               0.0   \n",
       "267251                                   0.0               0.0   \n",
       "267298                                   0.0               0.0   \n",
       "267347                                   1.0               1.0   \n",
       "267759                                   0.0               0.0   \n",
       "\n",
       "        5755685136498688  6574506961272832  5644406560391168  \\\n",
       "223648               0.0               0.0               0.0   \n",
       "267251               0.0               0.0               0.0   \n",
       "267298               0.0               0.0               0.0   \n",
       "267347               0.0               0.0               0.0   \n",
       "267759               1.0               0.0               0.0   \n",
       "\n",
       "        04a5cb4b-da08-aa0a-0153-a9d681ae3f46  \n",
       "223648                                   0.0  \n",
       "267251                                   0.0  \n",
       "267298                                   0.0  \n",
       "267347                                   0.0  \n",
       "267759                                   0.0  "
      ]
     },
     "execution_count": 79,
     "metadata": {},
     "output_type": "execute_result"
    }
   ],
   "source": [
    "df_items = pd.DataFrame.from_dict(client_item, orient='index')\n",
    "df_items.fillna(0, inplace=True)\n",
    "df_items.head()"
   ]
  },
  {
   "cell_type": "code",
   "execution_count": 80,
   "metadata": {},
   "outputs": [
    {
     "data": {
      "text/html": [
       "<div>\n",
       "<style>\n",
       "    .dataframe thead tr:only-child th {\n",
       "        text-align: right;\n",
       "    }\n",
       "\n",
       "    .dataframe thead th {\n",
       "        text-align: left;\n",
       "    }\n",
       "\n",
       "    .dataframe tbody tr th {\n",
       "        vertical-align: top;\n",
       "    }\n",
       "</style>\n",
       "<table border=\"1\" class=\"dataframe\">\n",
       "  <thead>\n",
       "    <tr style=\"text-align: right;\">\n",
       "      <th></th>\n",
       "      <th>Friday</th>\n",
       "      <th>Monday</th>\n",
       "      <th>Saturday</th>\n",
       "      <th>Sunday</th>\n",
       "      <th>Thursday</th>\n",
       "      <th>Tuesday</th>\n",
       "      <th>Wednesday</th>\n",
       "      <th>afternoon</th>\n",
       "      <th>evening/night</th>\n",
       "      <th>morning</th>\n",
       "      <th>04a5cb4b-da08-aa0a-0153-a9d681ae3f03</th>\n",
       "      <th>5720147234914304</th>\n",
       "      <th>d7f9378f-8a90-4e58-8663-f63ce0115acd</th>\n",
       "      <th>04a5cb4b-da08-aa0a-0153-a9d681ae3f43</th>\n",
       "      <th>04a5cb4b-da08-aa0a-0153-a9d681ae3f38</th>\n",
       "      <th>4819823842295808</th>\n",
       "      <th>5755685136498688</th>\n",
       "      <th>6574506961272832</th>\n",
       "      <th>5644406560391168</th>\n",
       "      <th>04a5cb4b-da08-aa0a-0153-a9d681ae3f46</th>\n",
       "    </tr>\n",
       "  </thead>\n",
       "  <tbody>\n",
       "    <tr>\n",
       "      <th>10406</th>\n",
       "      <td>0.107143</td>\n",
       "      <td>0.178571</td>\n",
       "      <td>0.035714</td>\n",
       "      <td>0.107143</td>\n",
       "      <td>0.250000</td>\n",
       "      <td>0.250000</td>\n",
       "      <td>0.178571</td>\n",
       "      <td>14.0</td>\n",
       "      <td>2.0</td>\n",
       "      <td>15.0</td>\n",
       "      <td>NaN</td>\n",
       "      <td>NaN</td>\n",
       "      <td>NaN</td>\n",
       "      <td>NaN</td>\n",
       "      <td>NaN</td>\n",
       "      <td>NaN</td>\n",
       "      <td>NaN</td>\n",
       "      <td>NaN</td>\n",
       "      <td>NaN</td>\n",
       "      <td>NaN</td>\n",
       "    </tr>\n",
       "    <tr>\n",
       "      <th>10871</th>\n",
       "      <td>0.200000</td>\n",
       "      <td>0.200000</td>\n",
       "      <td>0.000000</td>\n",
       "      <td>0.200000</td>\n",
       "      <td>0.000000</td>\n",
       "      <td>0.400000</td>\n",
       "      <td>0.200000</td>\n",
       "      <td>2.0</td>\n",
       "      <td>0.0</td>\n",
       "      <td>4.0</td>\n",
       "      <td>NaN</td>\n",
       "      <td>NaN</td>\n",
       "      <td>NaN</td>\n",
       "      <td>NaN</td>\n",
       "      <td>NaN</td>\n",
       "      <td>NaN</td>\n",
       "      <td>NaN</td>\n",
       "      <td>NaN</td>\n",
       "      <td>NaN</td>\n",
       "      <td>NaN</td>\n",
       "    </tr>\n",
       "    <tr>\n",
       "      <th>11229</th>\n",
       "      <td>0.058824</td>\n",
       "      <td>0.098039</td>\n",
       "      <td>0.000000</td>\n",
       "      <td>0.078431</td>\n",
       "      <td>0.058824</td>\n",
       "      <td>0.156863</td>\n",
       "      <td>0.039216</td>\n",
       "      <td>11.0</td>\n",
       "      <td>8.0</td>\n",
       "      <td>6.0</td>\n",
       "      <td>NaN</td>\n",
       "      <td>NaN</td>\n",
       "      <td>NaN</td>\n",
       "      <td>NaN</td>\n",
       "      <td>NaN</td>\n",
       "      <td>NaN</td>\n",
       "      <td>NaN</td>\n",
       "      <td>NaN</td>\n",
       "      <td>NaN</td>\n",
       "      <td>NaN</td>\n",
       "    </tr>\n",
       "    <tr>\n",
       "      <th>11234</th>\n",
       "      <td>0.000000</td>\n",
       "      <td>0.000000</td>\n",
       "      <td>0.000000</td>\n",
       "      <td>0.000000</td>\n",
       "      <td>3.000000</td>\n",
       "      <td>0.000000</td>\n",
       "      <td>0.000000</td>\n",
       "      <td>3.0</td>\n",
       "      <td>0.0</td>\n",
       "      <td>0.0</td>\n",
       "      <td>NaN</td>\n",
       "      <td>NaN</td>\n",
       "      <td>NaN</td>\n",
       "      <td>NaN</td>\n",
       "      <td>NaN</td>\n",
       "      <td>NaN</td>\n",
       "      <td>NaN</td>\n",
       "      <td>NaN</td>\n",
       "      <td>NaN</td>\n",
       "      <td>NaN</td>\n",
       "    </tr>\n",
       "    <tr>\n",
       "      <th>13768</th>\n",
       "      <td>0.000000</td>\n",
       "      <td>1.000000</td>\n",
       "      <td>0.000000</td>\n",
       "      <td>0.000000</td>\n",
       "      <td>0.000000</td>\n",
       "      <td>0.000000</td>\n",
       "      <td>0.000000</td>\n",
       "      <td>0.0</td>\n",
       "      <td>0.0</td>\n",
       "      <td>1.0</td>\n",
       "      <td>NaN</td>\n",
       "      <td>NaN</td>\n",
       "      <td>NaN</td>\n",
       "      <td>NaN</td>\n",
       "      <td>NaN</td>\n",
       "      <td>NaN</td>\n",
       "      <td>NaN</td>\n",
       "      <td>NaN</td>\n",
       "      <td>NaN</td>\n",
       "      <td>NaN</td>\n",
       "    </tr>\n",
       "  </tbody>\n",
       "</table>\n",
       "</div>"
      ],
      "text/plain": [
       "         Friday    Monday  Saturday    Sunday  Thursday   Tuesday  Wednesday  \\\n",
       "10406  0.107143  0.178571  0.035714  0.107143  0.250000  0.250000   0.178571   \n",
       "10871  0.200000  0.200000  0.000000  0.200000  0.000000  0.400000   0.200000   \n",
       "11229  0.058824  0.098039  0.000000  0.078431  0.058824  0.156863   0.039216   \n",
       "11234  0.000000  0.000000  0.000000  0.000000  3.000000  0.000000   0.000000   \n",
       "13768  0.000000  1.000000  0.000000  0.000000  0.000000  0.000000   0.000000   \n",
       "\n",
       "       afternoon  evening/night  morning  \\\n",
       "10406       14.0            2.0     15.0   \n",
       "10871        2.0            0.0      4.0   \n",
       "11229       11.0            8.0      6.0   \n",
       "11234        3.0            0.0      0.0   \n",
       "13768        0.0            0.0      1.0   \n",
       "\n",
       "       04a5cb4b-da08-aa0a-0153-a9d681ae3f03  5720147234914304  \\\n",
       "10406                                   NaN               NaN   \n",
       "10871                                   NaN               NaN   \n",
       "11229                                   NaN               NaN   \n",
       "11234                                   NaN               NaN   \n",
       "13768                                   NaN               NaN   \n",
       "\n",
       "       d7f9378f-8a90-4e58-8663-f63ce0115acd  \\\n",
       "10406                                   NaN   \n",
       "10871                                   NaN   \n",
       "11229                                   NaN   \n",
       "11234                                   NaN   \n",
       "13768                                   NaN   \n",
       "\n",
       "       04a5cb4b-da08-aa0a-0153-a9d681ae3f43  \\\n",
       "10406                                   NaN   \n",
       "10871                                   NaN   \n",
       "11229                                   NaN   \n",
       "11234                                   NaN   \n",
       "13768                                   NaN   \n",
       "\n",
       "       04a5cb4b-da08-aa0a-0153-a9d681ae3f38  4819823842295808  \\\n",
       "10406                                   NaN               NaN   \n",
       "10871                                   NaN               NaN   \n",
       "11229                                   NaN               NaN   \n",
       "11234                                   NaN               NaN   \n",
       "13768                                   NaN               NaN   \n",
       "\n",
       "       5755685136498688  6574506961272832  5644406560391168  \\\n",
       "10406               NaN               NaN               NaN   \n",
       "10871               NaN               NaN               NaN   \n",
       "11229               NaN               NaN               NaN   \n",
       "11234               NaN               NaN               NaN   \n",
       "13768               NaN               NaN               NaN   \n",
       "\n",
       "       04a5cb4b-da08-aa0a-0153-a9d681ae3f46  \n",
       "10406                                   NaN  \n",
       "10871                                   NaN  \n",
       "11229                                   NaN  \n",
       "11234                                   NaN  \n",
       "13768                                   NaN  "
      ]
     },
     "execution_count": 80,
     "metadata": {},
     "output_type": "execute_result"
    }
   ],
   "source": [
    "tmp = pd.concat([df_days, df_time, df_items], axis=1)\n",
    "tmp.head()"
   ]
  },
  {
   "cell_type": "code",
   "execution_count": 81,
   "metadata": {},
   "outputs": [
    {
     "data": {
      "text/html": [
       "<div>\n",
       "<style>\n",
       "    .dataframe thead tr:only-child th {\n",
       "        text-align: right;\n",
       "    }\n",
       "\n",
       "    .dataframe thead th {\n",
       "        text-align: left;\n",
       "    }\n",
       "\n",
       "    .dataframe tbody tr th {\n",
       "        vertical-align: top;\n",
       "    }\n",
       "</style>\n",
       "<table border=\"1\" class=\"dataframe\">\n",
       "  <thead>\n",
       "    <tr style=\"text-align: right;\">\n",
       "      <th></th>\n",
       "      <th>from first</th>\n",
       "      <th>from last</th>\n",
       "      <th>mean time</th>\n",
       "      <th>total sum</th>\n",
       "      <th>mean sum</th>\n",
       "      <th>cnt_items</th>\n",
       "      <th>Friday</th>\n",
       "      <th>Monday</th>\n",
       "      <th>Saturday</th>\n",
       "      <th>Sunday</th>\n",
       "      <th>...</th>\n",
       "      <th>04a5cb4b-da08-aa0a-0153-a9d681ae3f03</th>\n",
       "      <th>5720147234914304</th>\n",
       "      <th>d7f9378f-8a90-4e58-8663-f63ce0115acd</th>\n",
       "      <th>04a5cb4b-da08-aa0a-0153-a9d681ae3f43</th>\n",
       "      <th>04a5cb4b-da08-aa0a-0153-a9d681ae3f38</th>\n",
       "      <th>4819823842295808</th>\n",
       "      <th>5755685136498688</th>\n",
       "      <th>6574506961272832</th>\n",
       "      <th>5644406560391168</th>\n",
       "      <th>04a5cb4b-da08-aa0a-0153-a9d681ae3f46</th>\n",
       "    </tr>\n",
       "  </thead>\n",
       "  <tbody>\n",
       "    <tr>\n",
       "      <th>10406</th>\n",
       "      <td>-1283</td>\n",
       "      <td>-1089</td>\n",
       "      <td>62.766667</td>\n",
       "      <td>10075.0</td>\n",
       "      <td>325.000000</td>\n",
       "      <td>0.0</td>\n",
       "      <td>0.107143</td>\n",
       "      <td>0.178571</td>\n",
       "      <td>0.035714</td>\n",
       "      <td>0.107143</td>\n",
       "      <td>...</td>\n",
       "      <td>0.0</td>\n",
       "      <td>0.0</td>\n",
       "      <td>0.0</td>\n",
       "      <td>0.0</td>\n",
       "      <td>0.0</td>\n",
       "      <td>0.0</td>\n",
       "      <td>0.0</td>\n",
       "      <td>0.0</td>\n",
       "      <td>0.0</td>\n",
       "      <td>0.0</td>\n",
       "    </tr>\n",
       "    <tr>\n",
       "      <th>10871</th>\n",
       "      <td>-1285</td>\n",
       "      <td>-1253</td>\n",
       "      <td>10.600000</td>\n",
       "      <td>1145.0</td>\n",
       "      <td>190.833333</td>\n",
       "      <td>0.0</td>\n",
       "      <td>0.200000</td>\n",
       "      <td>0.200000</td>\n",
       "      <td>0.000000</td>\n",
       "      <td>0.200000</td>\n",
       "      <td>...</td>\n",
       "      <td>0.0</td>\n",
       "      <td>0.0</td>\n",
       "      <td>0.0</td>\n",
       "      <td>0.0</td>\n",
       "      <td>0.0</td>\n",
       "      <td>0.0</td>\n",
       "      <td>0.0</td>\n",
       "      <td>0.0</td>\n",
       "      <td>0.0</td>\n",
       "      <td>0.0</td>\n",
       "    </tr>\n",
       "    <tr>\n",
       "      <th>11229</th>\n",
       "      <td>-1099</td>\n",
       "      <td>-742</td>\n",
       "      <td>168.333333</td>\n",
       "      <td>4015.0</td>\n",
       "      <td>160.600000</td>\n",
       "      <td>0.0</td>\n",
       "      <td>0.058824</td>\n",
       "      <td>0.098039</td>\n",
       "      <td>0.000000</td>\n",
       "      <td>0.078431</td>\n",
       "      <td>...</td>\n",
       "      <td>0.0</td>\n",
       "      <td>0.0</td>\n",
       "      <td>0.0</td>\n",
       "      <td>0.0</td>\n",
       "      <td>0.0</td>\n",
       "      <td>0.0</td>\n",
       "      <td>0.0</td>\n",
       "      <td>0.0</td>\n",
       "      <td>0.0</td>\n",
       "      <td>0.0</td>\n",
       "    </tr>\n",
       "    <tr>\n",
       "      <th>11234</th>\n",
       "      <td>-1281</td>\n",
       "      <td>-1281</td>\n",
       "      <td>0.000000</td>\n",
       "      <td>1135.0</td>\n",
       "      <td>378.333333</td>\n",
       "      <td>0.0</td>\n",
       "      <td>0.000000</td>\n",
       "      <td>0.000000</td>\n",
       "      <td>0.000000</td>\n",
       "      <td>0.000000</td>\n",
       "      <td>...</td>\n",
       "      <td>0.0</td>\n",
       "      <td>0.0</td>\n",
       "      <td>0.0</td>\n",
       "      <td>0.0</td>\n",
       "      <td>0.0</td>\n",
       "      <td>0.0</td>\n",
       "      <td>0.0</td>\n",
       "      <td>0.0</td>\n",
       "      <td>0.0</td>\n",
       "      <td>0.0</td>\n",
       "    </tr>\n",
       "    <tr>\n",
       "      <th>13768</th>\n",
       "      <td>-1264</td>\n",
       "      <td>-1264</td>\n",
       "      <td>0.000000</td>\n",
       "      <td>60.0</td>\n",
       "      <td>60.000000</td>\n",
       "      <td>0.0</td>\n",
       "      <td>0.000000</td>\n",
       "      <td>1.000000</td>\n",
       "      <td>0.000000</td>\n",
       "      <td>0.000000</td>\n",
       "      <td>...</td>\n",
       "      <td>0.0</td>\n",
       "      <td>0.0</td>\n",
       "      <td>0.0</td>\n",
       "      <td>0.0</td>\n",
       "      <td>0.0</td>\n",
       "      <td>0.0</td>\n",
       "      <td>0.0</td>\n",
       "      <td>0.0</td>\n",
       "      <td>0.0</td>\n",
       "      <td>0.0</td>\n",
       "    </tr>\n",
       "  </tbody>\n",
       "</table>\n",
       "<p>5 rows × 26 columns</p>\n",
       "</div>"
      ],
      "text/plain": [
       "       from first  from last   mean time  total sum    mean sum  cnt_items  \\\n",
       "10406       -1283      -1089   62.766667    10075.0  325.000000        0.0   \n",
       "10871       -1285      -1253   10.600000     1145.0  190.833333        0.0   \n",
       "11229       -1099       -742  168.333333     4015.0  160.600000        0.0   \n",
       "11234       -1281      -1281    0.000000     1135.0  378.333333        0.0   \n",
       "13768       -1264      -1264    0.000000       60.0   60.000000        0.0   \n",
       "\n",
       "         Friday    Monday  Saturday    Sunday  \\\n",
       "10406  0.107143  0.178571  0.035714  0.107143   \n",
       "10871  0.200000  0.200000  0.000000  0.200000   \n",
       "11229  0.058824  0.098039  0.000000  0.078431   \n",
       "11234  0.000000  0.000000  0.000000  0.000000   \n",
       "13768  0.000000  1.000000  0.000000  0.000000   \n",
       "\n",
       "                       ...                   \\\n",
       "10406                  ...                    \n",
       "10871                  ...                    \n",
       "11229                  ...                    \n",
       "11234                  ...                    \n",
       "13768                  ...                    \n",
       "\n",
       "       04a5cb4b-da08-aa0a-0153-a9d681ae3f03  5720147234914304  \\\n",
       "10406                                   0.0               0.0   \n",
       "10871                                   0.0               0.0   \n",
       "11229                                   0.0               0.0   \n",
       "11234                                   0.0               0.0   \n",
       "13768                                   0.0               0.0   \n",
       "\n",
       "       d7f9378f-8a90-4e58-8663-f63ce0115acd  \\\n",
       "10406                                   0.0   \n",
       "10871                                   0.0   \n",
       "11229                                   0.0   \n",
       "11234                                   0.0   \n",
       "13768                                   0.0   \n",
       "\n",
       "       04a5cb4b-da08-aa0a-0153-a9d681ae3f43  \\\n",
       "10406                                   0.0   \n",
       "10871                                   0.0   \n",
       "11229                                   0.0   \n",
       "11234                                   0.0   \n",
       "13768                                   0.0   \n",
       "\n",
       "       04a5cb4b-da08-aa0a-0153-a9d681ae3f38  4819823842295808  \\\n",
       "10406                                   0.0               0.0   \n",
       "10871                                   0.0               0.0   \n",
       "11229                                   0.0               0.0   \n",
       "11234                                   0.0               0.0   \n",
       "13768                                   0.0               0.0   \n",
       "\n",
       "       5755685136498688  6574506961272832  5644406560391168  \\\n",
       "10406               0.0               0.0               0.0   \n",
       "10871               0.0               0.0               0.0   \n",
       "11229               0.0               0.0               0.0   \n",
       "11234               0.0               0.0               0.0   \n",
       "13768               0.0               0.0               0.0   \n",
       "\n",
       "       04a5cb4b-da08-aa0a-0153-a9d681ae3f46  \n",
       "10406                                   0.0  \n",
       "10871                                   0.0  \n",
       "11229                                   0.0  \n",
       "11234                                   0.0  \n",
       "13768                                   0.0  \n",
       "\n",
       "[5 rows x 26 columns]"
      ]
     },
     "execution_count": 81,
     "metadata": {},
     "output_type": "execute_result"
    }
   ],
   "source": [
    "df_for_clust = pd.concat([df, tmp], axis=1)\n",
    "df_for_clust.fillna(0, inplace=True)\n",
    "df_for_clust.head()"
   ]
  },
  {
   "cell_type": "code",
   "execution_count": null,
   "metadata": {
    "collapsed": true
   },
   "outputs": [],
   "source": []
  },
  {
   "cell_type": "code",
   "execution_count": null,
   "metadata": {
    "collapsed": true
   },
   "outputs": [],
   "source": []
  },
  {
   "cell_type": "code",
   "execution_count": null,
   "metadata": {
    "collapsed": true
   },
   "outputs": [],
   "source": []
  },
  {
   "cell_type": "code",
   "execution_count": null,
   "metadata": {
    "collapsed": true
   },
   "outputs": [],
   "source": []
  },
  {
   "cell_type": "code",
   "execution_count": null,
   "metadata": {
    "collapsed": true
   },
   "outputs": [],
   "source": []
  },
  {
   "cell_type": "code",
   "execution_count": null,
   "metadata": {
    "collapsed": true
   },
   "outputs": [],
   "source": []
  }
 ],
 "metadata": {
  "kernelspec": {
   "display_name": "Python 3",
   "language": "python",
   "name": "python3"
  },
  "language_info": {
   "codemirror_mode": {
    "name": "ipython",
    "version": 3
   },
   "file_extension": ".py",
   "mimetype": "text/x-python",
   "name": "python",
   "nbconvert_exporter": "python",
   "pygments_lexer": "ipython3",
   "version": "3.6.1"
  }
 },
 "nbformat": 4,
 "nbformat_minor": 2
}
